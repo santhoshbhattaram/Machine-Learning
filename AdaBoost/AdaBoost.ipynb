{
  "nbformat": 4,
  "nbformat_minor": 0,
  "metadata": {
    "colab": {
      "name": "AdaBoost.ipynb",
      "provenance": [],
      "collapsed_sections": []
    },
    "kernelspec": {
      "name": "python3",
      "display_name": "Python 3"
    },
    "language_info": {
      "name": "python"
    }
  },
  "cells": [
    {
      "cell_type": "markdown",
      "source": [
        " **ADA Boosting**"
      ],
      "metadata": {
        "id": "F0VcjBrRFb9H"
      }
    },
    {
      "cell_type": "code",
      "source": [
        "import numpy as np\n",
        "import pandas as pd\n",
        "\n",
        "#Weak Classifier\n",
        "class DecisionStump:\n",
        "  def __init__(self):\n",
        "    self.polarity = 1\n",
        "    self.featureindex = None\n",
        "    self.best_value = None\n",
        "    self.learning_rate = None\n",
        "  \n",
        "  def predict_classification(self, feature_data):\n",
        "    n_samples = feature_data.shape[0]\n",
        "    column_data = feature_data[:, self.featureindex]\n",
        "    # print(column_data)\n",
        "    predictions = np.ones(n_samples)\n",
        "    if self.polarity == 1:\n",
        "      predictions[column_data <= self.best_value] = -1\n",
        "    else:\n",
        "      predictions[column_data > self.best_value] = -1\n",
        "    return predictions\n"
      ],
      "metadata": {
        "id": "amXKM46vylCA"
      },
      "execution_count": 235,
      "outputs": []
    },
    {
      "cell_type": "code",
      "source": [
        "class AdaboostClassifer:\n",
        "\n",
        "\n",
        "  def __init__(self, ntimes):\n",
        "    self.ntimes = ntimes\n",
        "    self.classifier_list = []\n",
        "\n",
        "\n",
        "  def train_classifier(self, X, labels):\n",
        "    n_samples, n_features = X.shape\n",
        "    #weight intialisation\n",
        "    weights = np.full(n_samples, (1 / n_samples))\n",
        "    for _ in range(self.ntimes):\n",
        "      classifyer = DecisionStump()\n",
        "      minimum_error = float(\"inf\")\n",
        "      for feature_i in range(n_features):\n",
        "        X_column = X[:, feature_i]\n",
        "        best_values = np.unique(X_column)\n",
        "        for best_value in best_values:\n",
        "          polarity = 1\n",
        "          predictions = np.ones(n_samples)\n",
        "          predictions[X_column < best_value] = -1\n",
        "          #get misclassified labels\n",
        "          misclassified = weights[labels != predictions]\n",
        "          error = sum(misclassified)\n",
        "\n",
        "          if error > 0.5:\n",
        "            error = 1 - error\n",
        "            polarity = -1\n",
        "\n",
        "          if error < minimum_error:\n",
        "            classifyer.polarity = polarity\n",
        "            classifyer.best_value = best_value\n",
        "            classifyer.featureindex = feature_i\n",
        "            minimum_error = error\n",
        "      classifyer.learning_rate = 1/2 * np.log((1.0 - minimum_error + 1e-10) / (minimum_error + 1e-10))\n",
        "      predictions = classifyer.predict_classification(X)\n",
        "      #updating weights\n",
        "      weights *= np.exp(-classifyer.learning_rate * labels * predictions)\n",
        "      weights /= np.sum(weights)\n",
        "      self.classifier_list.append(classifyer)\n",
        "\n",
        "\n",
        "  def predict_classification(self, feature_data):\n",
        "    classifier_pred = [classify.learning_rate * classify.predict_classification(feature_data) for classify in self.classifier_list]\n",
        "    label_pred = np.sum(classifier_pred, axis=0)\n",
        "    label_pred = np.sign(label_pred)\n",
        "    return label_pred"
      ],
      "metadata": {
        "id": "jOg5OvIz2Ipa"
      },
      "execution_count": 236,
      "outputs": []
    },
    {
      "cell_type": "code",
      "source": [
        "def accuracy(labels, pred_labels):\n",
        "  correct=0\n",
        "  for i in range(len(labels)):\n",
        "    if(labels[i]==pred_labels[i]):\n",
        "      correct+=1\n",
        "  return (correct/len(labels))*100"
      ],
      "metadata": {
        "id": "b3aLv0bi2k_S"
      },
      "execution_count": 237,
      "outputs": []
    },
    {
      "cell_type": "code",
      "source": [
        "df=pd.read_csv('Assignement1-2b.csv')\n",
        "feature_data = np.array(df.iloc[:, 0:3].values)\n",
        "labels=np.array(df.iloc[:,-1]) \n",
        "# print(X)\n",
        "labels[labels=='W']=0\n",
        "labels[labels=='M']=1\n",
        "labels[labels == 0] = -1\n",
        "labels=labels.astype(dtype='float64')\n",
        "# print(len(feature_data[0:90]))\n",
        "for i in [10,25,50]:\n",
        "  classifier = AdaboostClassifer(i)\n",
        "  classifier.train_classifier(feature_data[0:90], labels[0:90])  \n",
        "  labels_pred = classifier.predict_classification(feature_data[90:120])\n",
        "  # print(y[90:120])\n",
        "  # print(y_pred)\n",
        "  accura = accuracy(labels[90:120], labels_pred) \n",
        "  error_rate=100-accura\n",
        "  print('--------------------------------------------------')\n",
        "  print(f\"Accuracy for boosting {i} times is {accura}\")\n",
        "  print(f\"Error rate for boosting {i} times is {error_rate}\")\n",
        "  print('---------------------------------------------------')"
      ],
      "metadata": {
        "colab": {
          "base_uri": "https://localhost:8080/"
        },
        "id": "XaKBnlYsNm9r",
        "outputId": "910f7fac-f26f-4845-e373-ec265362e0c7"
      },
      "execution_count": 238,
      "outputs": [
        {
          "output_type": "stream",
          "name": "stdout",
          "text": [
            "--------------------------------------------------\n",
            "Accuracy for boosting 10 times is 70.0\n",
            "Error rate for boosting 10 times is 30.0\n",
            "---------------------------------------------------\n",
            "--------------------------------------------------\n",
            "Accuracy for boosting 25 times is 63.33333333333333\n",
            "Error rate for boosting 25 times is 36.66666666666667\n",
            "---------------------------------------------------\n",
            "--------------------------------------------------\n",
            "Accuracy for boosting 50 times is 70.0\n",
            "Error rate for boosting 50 times is 30.0\n",
            "---------------------------------------------------\n"
          ]
        }
      ]
    }
  ]
}