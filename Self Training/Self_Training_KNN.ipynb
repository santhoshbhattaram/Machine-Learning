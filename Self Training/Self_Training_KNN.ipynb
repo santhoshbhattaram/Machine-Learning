{
  "nbformat": 4,
  "nbformat_minor": 0,
  "metadata": {
    "colab": {
      "name": "Self_Training_KNN.ipynb",
      "provenance": [],
      "collapsed_sections": []
    },
    "kernelspec": {
      "name": "python3",
      "display_name": "Python 3"
    },
    "language_info": {
      "name": "python"
    }
  },
  "cells": [
    {
      "cell_type": "markdown",
      "source": [
        "**Self Training**\n",
        "\n",
        "\n",
        "a) Implement a self-training system using a K-nearest neighbor classifier for this problem (to evaluate\n",
        "the level of certainty for each prediction on unlabeled data you can use the purity of the prediction ,i.e. how many more ”votes” the predicted class received than the other class - and you could use\n",
        "distance weighted voting where the number of votes each of the K data points receives is inversely\n",
        "proportional to the distance from the data point). Your algorithm should allow you to change the\n",
        "number of data items that are being added to the labeled data set in each iteration.\n",
        "\n",
        "\n",
        "**ans:**\n",
        "\n",
        "Self Training for KNN classifier is being implemented by adding number of data items to be added as per our choice by defining the data_increment paramater of method -selftrainingKNN, also implemented to get the data_increment value from user"
      ],
      "metadata": {
        "id": "CUpwg8vL27C6"
      }
    },
    {
      "cell_type": "code",
      "execution_count": 16,
      "metadata": {
        "id": "BaL0dSMSLjEX"
      },
      "outputs": [],
      "source": [
        "import pandas as pd\n",
        "from math import sqrt\n",
        "\n",
        "# Find cartesian Distance between the data points\n",
        "def  cartesian_distance(r1,r2):\n",
        "  distance=0.0\n",
        "  # print(r1,r2)\n",
        "  for i in range(len(r1)-1):\n",
        "    #print(r1[i],r2[i])\n",
        "    distance+=(r1[i]-r2[i])**2\n",
        "  #print(sqrt(distance))\n",
        "  return sqrt(distance)\n",
        "\n",
        "# Get distance vector - finds the distance between the test data point and each training data points and sorts based on distance\n",
        "def get_distancevector(training_data,test_data):\n",
        "  distance=list()\n",
        "  # print(test_data)\n",
        "  for i in training_data:\n",
        "    distance.append((i,cartesian_distance(i,test_data)))\n",
        "  distance.sort(key=lambda tup: tup[1]) # sort tuples based on nearest distance(w.r.t distance)\n",
        "  #print('Distance Vector:')\n",
        "  #print(distance)\n",
        "  return distance\n",
        "\n",
        "#Get K Neighbours - we will find the k-nearest neigbors based on the distance vector found\n",
        "def get_kneighbors(distance,k):\n",
        "  neighbors = list()\n",
        "  #print(f'k={k} nearest neighbours')\n",
        "  for i in range(k):\n",
        "    neighbors.append(distance[i][0])\n",
        "  #print(neighbors)\n",
        "  return neighbors\n",
        "  \n",
        "#Predict the gender - takes training data, test data, k-value as input and predicts the gender \n",
        "def predict_gender(training_data,test_data,k):\n",
        "  distance=get_distancevector(training_data,test_data)\n",
        "  kneighbors=get_kneighbors(distance,k)\n",
        "  labels = [row[-1] for row in kneighbors]\n",
        "  prediction = max(set(labels), key=labels.count)\n",
        "  return prediction\n"
      ]
    },
    {
      "cell_type": "code",
      "source": [
        "df= pd.read_csv('Assignement1-2b.csv')\n",
        "training_data=df.values.tolist()\n",
        "# training_data=preprocessing(training_data)"
      ],
      "metadata": {
        "id": "dB8F7QS_Lj_B"
      },
      "execution_count": 17,
      "outputs": []
    },
    {
      "cell_type": "code",
      "source": [
        "#self train data by adding data points to labelled set after each iteration\n",
        "def selftrainingKNN(self_training_data,unlabelled_data,k,data_increment,max_size):\n",
        "  while len(self_training_data)!=max_size:\n",
        "    temp=[]\n",
        "    for i in range(data_increment):\n",
        "      #  print(i)\n",
        "       if(len(unlabelled_data)>0 and len(unlabelled_data)>i):\n",
        "        # print(self_training_data)\n",
        "        prediction=predict_gender(self_training_data,unlabelled_data[0],k)\n",
        "        temp.append([float(unlabelled_data[0][0]),float(unlabelled_data[0][1]),float(unlabelled_data[0][2]),prediction])\n",
        "        # print(unlabelled_data[0])\n",
        "        #poping the data from unlabbelled and would be added after iterations\n",
        "        unlabelled_data.remove(unlabelled_data[0])\n",
        "        # print(len(unlabelled_data))\n",
        "    for i in temp:\n",
        "      self_training_data.append(i)\n",
        "    # print(len(self_training_data))\n",
        "  return self_training_data\n",
        "\n",
        "# to check accuracy for the self trained KNN\n",
        "def accuracy_check(training_data,self_training_data):\n",
        "  correct=0\n",
        "  wrong=0\n",
        "  for i in range(len(training_data)):\n",
        "    # print(training_data[i],self_training_data[i])\n",
        "    if(training_data[i][-1]==self_training_data[i][-1]):\n",
        "      correct+=1\n",
        "    else:\n",
        "      wrong+=1\n",
        "  return ((correct/(correct+wrong))*100)\n",
        "\n"
      ],
      "metadata": {
        "id": "oTE3j_HlMv6q"
      },
      "execution_count": 18,
      "outputs": []
    },
    {
      "cell_type": "code",
      "source": [
        "#initial 20 points to train\n",
        "self_trainingdata=training_data[0:20]\n",
        "#unlabelled data points\n",
        "unlabelled_data=df.iloc[20:, 0:3].values.tolist()\n",
        "# print(unlabelled_data)\n",
        "k=int(input('Please enter k value of KNN : '))\n",
        "data_incrementing=int(input('Please enter data increment value : '))\n",
        "accuracy_check(training_data,selftrainingKNN(self_trainingdata,unlabelled_data,k,data_incrementing,len(training_data)))"
      ],
      "metadata": {
        "colab": {
          "base_uri": "https://localhost:8080/"
        },
        "id": "PdIM2OiO4PMz",
        "outputId": "fa50695a-a88e-40f2-faf0-0d1814c78d95"
      },
      "execution_count": 19,
      "outputs": [
        {
          "name": "stdout",
          "output_type": "stream",
          "text": [
            "Please enter k value of KNN : 5\n",
            "Please enter data increment value : 10\n"
          ]
        },
        {
          "output_type": "execute_result",
          "data": {
            "text/plain": [
              "77.5"
            ]
          },
          "metadata": {},
          "execution_count": 19
        }
      ]
    },
    {
      "cell_type": "markdown",
      "source": [
        "b) Learn a classifier using the semi-supervised learning algorithm and compare it agains the K-nearest\n",
        "neighbor classifier learned only from the labeled data Dsby evaluating the fraction of initially\n",
        "unlabeled points it predicts correctly (for the self-learning you can simply use the fraction of the\n",
        "initially unlabeled points that were assigned the correct label during the learning process). Repeat\n",
        "the comparison for four different numbers of data points added in each iteration, including adding\n",
        "1 data point in each iteration, adding all data points in the first iteration, adding 5 points in each\n",
        "iteration, and one setting of your choice. Discuss if you see any performance difference and if so,\n",
        "what it is.\n",
        "\n",
        "\n",
        "**ANS:**\n",
        "Implemented it for data points for 1 data point each iteration, all remaining 100 data points in first iteration , adding 5 in each iteration and adding 20 in each iteration with K value as 5 and corresponding accuracies are provided below.\n",
        "\n",
        "The performance was improved by adding 20 points for iteration , performance for other is same for the given data at k-value=5"
      ],
      "metadata": {
        "id": "eIEmNU137gHQ"
      }
    },
    {
      "cell_type": "code",
      "source": [
        "data_points=[1,5,20,100]\n",
        "k=5\n",
        "for i in data_points:\n",
        "  #initial 20 points to train\n",
        "  self_trainingdata=training_data[0:20]\n",
        "  #unlabelled data points\n",
        "  unlabelled_data=df.iloc[20:, 0:3].values.tolist()\n",
        "  accuracy=accuracy_check(training_data,selftrainingKNN(self_trainingdata,unlabelled_data,k,i,len(training_data)))\n",
        "  print(f'Accuracy of self training KNN after adding {i} points for iteration is {accuracy}')\n"
      ],
      "metadata": {
        "colab": {
          "base_uri": "https://localhost:8080/"
        },
        "id": "tXIhKPJa7RKk",
        "outputId": "f6d6cbec-e05a-4861-b9ae-d31e82b6115d"
      },
      "execution_count": 20,
      "outputs": [
        {
          "output_type": "stream",
          "name": "stdout",
          "text": [
            "Accuracy of self training KNN after adding 1 points for iteration is 77.5\n",
            "Accuracy of self training KNN after adding 5 points for iteration is 77.5\n",
            "Accuracy of self training KNN after adding 20 points for iteration is 78.33333333333333\n",
            "Accuracy of self training KNN after adding 100 points for iteration is 77.5\n"
          ]
        }
      ]
    },
    {
      "cell_type": "markdown",
      "source": [
        "The accuracies of the same for different k values is given below k=1,3,5,7,9"
      ],
      "metadata": {
        "id": "6dUwjewm51Cn"
      }
    },
    {
      "cell_type": "code",
      "source": [
        "data_points=[1,5,20,100]\n",
        "k=5\n",
        "for k in [1,3,5,7,9]:\n",
        "  print(f'-------------------------------for k value {k}-------------------------------------------------------')\n",
        "  for i in data_points:\n",
        "    #initial 20 points to train\n",
        "    self_trainingdata=training_data[0:20]\n",
        "    #unlabelled data points\n",
        "    unlabelled_data=df.iloc[20:, 0:3].values.tolist()\n",
        "    accuracy=accuracy_check(training_data,selftrainingKNN(self_trainingdata,unlabelled_data,k,i,len(training_data)))\n",
        "    print(f'Accuracy of self training KNN after adding {i} points for iteration is {accuracy}')\n",
        "  print('***--------------------------------------------------------------------------------------------------**')"
      ],
      "metadata": {
        "colab": {
          "base_uri": "https://localhost:8080/"
        },
        "id": "QbQapwA65ztO",
        "outputId": "f535e14d-aa9c-49fc-adf8-5d355794f502"
      },
      "execution_count": 21,
      "outputs": [
        {
          "output_type": "stream",
          "name": "stdout",
          "text": [
            "-------------------------------for k value 1-------------------------------------------------------\n",
            "Accuracy of self training KNN after adding 1 points for iteration is 76.66666666666667\n",
            "Accuracy of self training KNN after adding 5 points for iteration is 76.66666666666667\n",
            "Accuracy of self training KNN after adding 20 points for iteration is 76.66666666666667\n",
            "Accuracy of self training KNN after adding 100 points for iteration is 76.66666666666667\n",
            "***--------------------------------------------------------------------------------------------------**\n",
            "-------------------------------for k value 3-------------------------------------------------------\n",
            "Accuracy of self training KNN after adding 1 points for iteration is 78.33333333333333\n",
            "Accuracy of self training KNN after adding 5 points for iteration is 78.33333333333333\n",
            "Accuracy of self training KNN after adding 20 points for iteration is 78.33333333333333\n",
            "Accuracy of self training KNN after adding 100 points for iteration is 78.33333333333333\n",
            "***--------------------------------------------------------------------------------------------------**\n",
            "-------------------------------for k value 5-------------------------------------------------------\n",
            "Accuracy of self training KNN after adding 1 points for iteration is 77.5\n",
            "Accuracy of self training KNN after adding 5 points for iteration is 77.5\n",
            "Accuracy of self training KNN after adding 20 points for iteration is 78.33333333333333\n",
            "Accuracy of self training KNN after adding 100 points for iteration is 77.5\n",
            "***--------------------------------------------------------------------------------------------------**\n",
            "-------------------------------for k value 7-------------------------------------------------------\n",
            "Accuracy of self training KNN after adding 1 points for iteration is 77.5\n",
            "Accuracy of self training KNN after adding 5 points for iteration is 77.5\n",
            "Accuracy of self training KNN after adding 20 points for iteration is 77.5\n",
            "Accuracy of self training KNN after adding 100 points for iteration is 77.5\n",
            "***--------------------------------------------------------------------------------------------------**\n",
            "-------------------------------for k value 9-------------------------------------------------------\n",
            "Accuracy of self training KNN after adding 1 points for iteration is 77.5\n",
            "Accuracy of self training KNN after adding 5 points for iteration is 65.83333333333333\n",
            "Accuracy of self training KNN after adding 20 points for iteration is 75.83333333333333\n",
            "Accuracy of self training KNN after adding 100 points for iteration is 78.33333333333333\n",
            "***--------------------------------------------------------------------------------------------------**\n"
          ]
        }
      ]
    }
  ]
}