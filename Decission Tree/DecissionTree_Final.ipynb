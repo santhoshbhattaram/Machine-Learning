{
  "nbformat": 4,
  "nbformat_minor": 0,
  "metadata": {
    "colab": {
      "name": "DecissionTree_Final.ipynb",
      "provenance": [],
      "collapsed_sections": []
    },
    "kernelspec": {
      "name": "python3",
      "display_name": "Python 3"
    },
    "language_info": {
      "name": "python"
    }
  },
  "cells": [
    {
      "cell_type": "code",
      "source": [
        "import numpy as np\n",
        "import pandas as pd\n",
        "from pprint import pprint\n",
        "\n",
        "df = pd.read_csv(\"Assignement1-2b.csv\")\n",
        "data = df.values\n",
        "column_names=df.columns\n",
        "training_data=df.values\n",
        "df.head()"
      ],
      "metadata": {
        "colab": {
          "base_uri": "https://localhost:8080/",
          "height": 206
        },
        "id": "RK-0Jwti8l7P",
        "outputId": "8fbd8387-8208-4515-b835-fb3b3b5b9098"
      },
      "execution_count": 196,
      "outputs": [
        {
          "output_type": "execute_result",
          "data": {
            "text/plain": [
              "     Height     Weight  Age Gender\n",
              "0  1.798398  72.545354   29      W\n",
              "1  1.791747  78.826072   30      W\n",
              "2  1.768286  69.288869   28      W\n",
              "3  1.794980  88.006699   22      M\n",
              "4  1.730018  71.812933   29      W"
            ],
            "text/html": [
              "\n",
              "  <div id=\"df-0a6133e4-e199-46d9-8231-f259e31d9c0c\">\n",
              "    <div class=\"colab-df-container\">\n",
              "      <div>\n",
              "<style scoped>\n",
              "    .dataframe tbody tr th:only-of-type {\n",
              "        vertical-align: middle;\n",
              "    }\n",
              "\n",
              "    .dataframe tbody tr th {\n",
              "        vertical-align: top;\n",
              "    }\n",
              "\n",
              "    .dataframe thead th {\n",
              "        text-align: right;\n",
              "    }\n",
              "</style>\n",
              "<table border=\"1\" class=\"dataframe\">\n",
              "  <thead>\n",
              "    <tr style=\"text-align: right;\">\n",
              "      <th></th>\n",
              "      <th>Height</th>\n",
              "      <th>Weight</th>\n",
              "      <th>Age</th>\n",
              "      <th>Gender</th>\n",
              "    </tr>\n",
              "  </thead>\n",
              "  <tbody>\n",
              "    <tr>\n",
              "      <th>0</th>\n",
              "      <td>1.798398</td>\n",
              "      <td>72.545354</td>\n",
              "      <td>29</td>\n",
              "      <td>W</td>\n",
              "    </tr>\n",
              "    <tr>\n",
              "      <th>1</th>\n",
              "      <td>1.791747</td>\n",
              "      <td>78.826072</td>\n",
              "      <td>30</td>\n",
              "      <td>W</td>\n",
              "    </tr>\n",
              "    <tr>\n",
              "      <th>2</th>\n",
              "      <td>1.768286</td>\n",
              "      <td>69.288869</td>\n",
              "      <td>28</td>\n",
              "      <td>W</td>\n",
              "    </tr>\n",
              "    <tr>\n",
              "      <th>3</th>\n",
              "      <td>1.794980</td>\n",
              "      <td>88.006699</td>\n",
              "      <td>22</td>\n",
              "      <td>M</td>\n",
              "    </tr>\n",
              "    <tr>\n",
              "      <th>4</th>\n",
              "      <td>1.730018</td>\n",
              "      <td>71.812933</td>\n",
              "      <td>29</td>\n",
              "      <td>W</td>\n",
              "    </tr>\n",
              "  </tbody>\n",
              "</table>\n",
              "</div>\n",
              "      <button class=\"colab-df-convert\" onclick=\"convertToInteractive('df-0a6133e4-e199-46d9-8231-f259e31d9c0c')\"\n",
              "              title=\"Convert this dataframe to an interactive table.\"\n",
              "              style=\"display:none;\">\n",
              "        \n",
              "  <svg xmlns=\"http://www.w3.org/2000/svg\" height=\"24px\"viewBox=\"0 0 24 24\"\n",
              "       width=\"24px\">\n",
              "    <path d=\"M0 0h24v24H0V0z\" fill=\"none\"/>\n",
              "    <path d=\"M18.56 5.44l.94 2.06.94-2.06 2.06-.94-2.06-.94-.94-2.06-.94 2.06-2.06.94zm-11 1L8.5 8.5l.94-2.06 2.06-.94-2.06-.94L8.5 2.5l-.94 2.06-2.06.94zm10 10l.94 2.06.94-2.06 2.06-.94-2.06-.94-.94-2.06-.94 2.06-2.06.94z\"/><path d=\"M17.41 7.96l-1.37-1.37c-.4-.4-.92-.59-1.43-.59-.52 0-1.04.2-1.43.59L10.3 9.45l-7.72 7.72c-.78.78-.78 2.05 0 2.83L4 21.41c.39.39.9.59 1.41.59.51 0 1.02-.2 1.41-.59l7.78-7.78 2.81-2.81c.8-.78.8-2.07 0-2.86zM5.41 20L4 18.59l7.72-7.72 1.47 1.35L5.41 20z\"/>\n",
              "  </svg>\n",
              "      </button>\n",
              "      \n",
              "  <style>\n",
              "    .colab-df-container {\n",
              "      display:flex;\n",
              "      flex-wrap:wrap;\n",
              "      gap: 12px;\n",
              "    }\n",
              "\n",
              "    .colab-df-convert {\n",
              "      background-color: #E8F0FE;\n",
              "      border: none;\n",
              "      border-radius: 50%;\n",
              "      cursor: pointer;\n",
              "      display: none;\n",
              "      fill: #1967D2;\n",
              "      height: 32px;\n",
              "      padding: 0 0 0 0;\n",
              "      width: 32px;\n",
              "    }\n",
              "\n",
              "    .colab-df-convert:hover {\n",
              "      background-color: #E2EBFA;\n",
              "      box-shadow: 0px 1px 2px rgba(60, 64, 67, 0.3), 0px 1px 3px 1px rgba(60, 64, 67, 0.15);\n",
              "      fill: #174EA6;\n",
              "    }\n",
              "\n",
              "    [theme=dark] .colab-df-convert {\n",
              "      background-color: #3B4455;\n",
              "      fill: #D2E3FC;\n",
              "    }\n",
              "\n",
              "    [theme=dark] .colab-df-convert:hover {\n",
              "      background-color: #434B5C;\n",
              "      box-shadow: 0px 1px 3px 1px rgba(0, 0, 0, 0.15);\n",
              "      filter: drop-shadow(0px 1px 2px rgba(0, 0, 0, 0.3));\n",
              "      fill: #FFFFFF;\n",
              "    }\n",
              "  </style>\n",
              "\n",
              "      <script>\n",
              "        const buttonEl =\n",
              "          document.querySelector('#df-0a6133e4-e199-46d9-8231-f259e31d9c0c button.colab-df-convert');\n",
              "        buttonEl.style.display =\n",
              "          google.colab.kernel.accessAllowed ? 'block' : 'none';\n",
              "\n",
              "        async function convertToInteractive(key) {\n",
              "          const element = document.querySelector('#df-0a6133e4-e199-46d9-8231-f259e31d9c0c');\n",
              "          const dataTable =\n",
              "            await google.colab.kernel.invokeFunction('convertToInteractive',\n",
              "                                                     [key], {});\n",
              "          if (!dataTable) return;\n",
              "\n",
              "          const docLinkHtml = 'Like what you see? Visit the ' +\n",
              "            '<a target=\"_blank\" href=https://colab.research.google.com/notebooks/data_table.ipynb>data table notebook</a>'\n",
              "            + ' to learn more about interactive tables.';\n",
              "          element.innerHTML = '';\n",
              "          dataTable['output_type'] = 'display_data';\n",
              "          await google.colab.output.renderOutput(dataTable, element);\n",
              "          const docLink = document.createElement('div');\n",
              "          docLink.innerHTML = docLinkHtml;\n",
              "          element.appendChild(docLink);\n",
              "        }\n",
              "      </script>\n",
              "    </div>\n",
              "  </div>\n",
              "  "
            ]
          },
          "metadata": {},
          "execution_count": 196
        }
      ]
    },
    {
      "cell_type": "code",
      "execution_count": 197,
      "metadata": {
        "id": "d1j3op2p6P0j"
      },
      "outputs": [],
      "source": [
        "def purity(dataset):\n",
        "  classes=set(dataset[:,-1])\n",
        "  classes=np.array(list(classes))\n",
        "  # print(classes)\n",
        "  if len(classes)==1:\n",
        "    return True\n",
        "  return False"
      ]
    },
    {
      "cell_type": "code",
      "source": [
        "#checking purity of class\n",
        "# purity(df[df['Gender']=='W'].values)\n",
        "# # df[df['Gender']=='W'].values\n",
        "def classify_treedata(dataset):\n",
        "  classes=dataset[:,-1]\n",
        "  unique_classes,count=np.unique(classes,return_counts=True)\n",
        "  # print(np.unique(classes,return_counts=True))\n",
        "  classification=unique_classes[np.argmax(count)]\n",
        "  # print(classification)\n",
        "  return classification\n",
        "# classify_treedata(df[(df.Age>30) & (df.Weight>90)].values)"
      ],
      "metadata": {
        "id": "xuazrPLu8HN3"
      },
      "execution_count": 198,
      "outputs": []
    },
    {
      "cell_type": "code",
      "source": [
        "#get the splpit data left and right to decission node\n",
        "def get_splits(data):\n",
        "  splits={}\n",
        "  _,columns=data.shape\n",
        "  for column in range(columns-1): \n",
        "    splits[column]=[]\n",
        "    values=data[:,column]\n",
        "    unique_values=np.sort(np.unique(values))\n",
        "    # print(len(unique_values))\n",
        "    for index in range(len(unique_values)):\n",
        "      if(index!=0):\n",
        "        splits[column].append((unique_values[index-1]+unique_values[index])/2)\n",
        "  # print(len(splits[2]))\n",
        "  return splits"
      ],
      "metadata": {
        "id": "pnGqxDS_8NFu"
      },
      "execution_count": 199,
      "outputs": []
    },
    {
      "cell_type": "code",
      "source": [
        "def get_splitdata(dataset, column, value):\n",
        "  split_data=dataset[:,column]\n",
        "  data_left=dataset[split_data<=value]\n",
        "  data_right=dataset[split_data>value]\n",
        "  return data_left,data_right"
      ],
      "metadata": {
        "id": "Ck9m7XVC8PKN"
      },
      "execution_count": 200,
      "outputs": []
    },
    {
      "cell_type": "code",
      "source": [
        "# column=0\n",
        "# value=1.697077955\n",
        "# get_splitdata(training_data,0,1.697077955)"
      ],
      "metadata": {
        "id": "_QHYQvU4ZSP0"
      },
      "execution_count": 201,
      "outputs": []
    },
    {
      "cell_type": "code",
      "source": [
        "\n",
        "def entropy_cal(dataset):\n",
        "  classes=dataset[:,-1]\n",
        "  _,count=np.unique(classes,return_counts=True)\n",
        "  prob=count/sum(count)\n",
        "  entropy=sum(prob * - np.log2(prob))\n",
        "  return entropy"
      ],
      "metadata": {
        "id": "zeKKgcZw8RD7"
      },
      "execution_count": 202,
      "outputs": []
    },
    {
      "cell_type": "code",
      "source": [
        "# data_left,data_right=get_splitdata(training_data,0,1.697077955)\n",
        "# entropy_cal(data_right) "
      ],
      "metadata": {
        "id": "sOUBqEZnS2h6"
      },
      "execution_count": 203,
      "outputs": []
    },
    {
      "cell_type": "code",
      "source": [
        "def total_entropy(data_left, data_right):\n",
        "  prob_left=len(data_left)/(len(data_left)+len(data_right))\n",
        "  prob_right=len(data_right)/(len(data_left)+len(data_right))\n",
        "  total_entropy= (prob_left *entropy_cal(data_left))+ (prob_right *entropy_cal(data_right))\n",
        "  return total_entropy "
      ],
      "metadata": {
        "id": "WAosY-wQ8S4e"
      },
      "execution_count": 204,
      "outputs": []
    },
    {
      "cell_type": "code",
      "source": [
        "def information_gain(dataset,data_left,data_right):\n",
        "  return entropy_cal(dataset)-(total_entropy(data_left,data_right))"
      ],
      "metadata": {
        "id": "zCRmDYuF8VUq"
      },
      "execution_count": 205,
      "outputs": []
    },
    {
      "cell_type": "code",
      "source": [
        "\n",
        "def get_best_split_gain(dataset,splits):\n",
        "  best_infogain=0\n",
        "  for index in splits:\n",
        "    for value in splits[index]:\n",
        "      data_left,data_right=get_splitdata(dataset,index,value)\n",
        "      # best_column=index\n",
        "      # best_value=value\n",
        "      info_gain=information_gain(dataset[:,(index,-1)],data_left,data_right)\n",
        "      if info_gain>best_infogain:\n",
        "        best_infogain=info_gain\n",
        "        best_column=index\n",
        "        best_value=value\n",
        "  return best_column,best_value"
      ],
      "metadata": {
        "id": "5pM7qDm58WJQ"
      },
      "execution_count": 206,
      "outputs": []
    },
    {
      "cell_type": "code",
      "source": [
        "splits = get_splits(training_data)\n",
        "get_best_split_gain(training_data,splits)"
      ],
      "metadata": {
        "colab": {
          "base_uri": "https://localhost:8080/"
        },
        "id": "_6ZqMxaqUp-R",
        "outputId": "862e740c-3a85-4bdc-fe3e-e5b00f332b96"
      },
      "execution_count": 207,
      "outputs": [
        {
          "output_type": "execute_result",
          "data": {
            "text/plain": [
              "(1, 80.03158404)"
            ]
          },
          "metadata": {},
          "execution_count": 207
        }
      ]
    },
    {
      "cell_type": "code",
      "source": [
        "\n",
        "def DecissionTreeClassification(data,min_samples, max_depth,iteration=0):\n",
        "    if (purity(data)) or (len(data) < min_samples) or (iteration == max_depth):\n",
        "        classification = classify_treedata(data)\n",
        "        return classification   \n",
        "    else:    \n",
        "        iteration += 1\n",
        "        splits = get_splits(data)\n",
        "        best_column, best_value = get_best_split_gain(data, splits)\n",
        "        data_left, data_right = get_splitdata(data, best_column, best_value)\n",
        "        # decissionrule=print(f'{column_names[best_column]} <= {best_value}')\n",
        "        decissionrule=\"\"+str(column_names[best_column])+\" <= \" + str(best_value) \n",
        "        sub_tree = {decissionrule: []}\n",
        "        left_subtree = DecissionTreeClassification(data_left, min_samples, max_depth,iteration)\n",
        "        right_subtree = DecissionTreeClassification(data_right, min_samples, max_depth,iteration)\n",
        "        sub_tree[decissionrule].append(left_subtree)\n",
        "        sub_tree[decissionrule].append(right_subtree)\n",
        "        return sub_tree"
      ],
      "metadata": {
        "id": "bEaYjC9Z8hGN"
      },
      "execution_count": 208,
      "outputs": []
    },
    {
      "cell_type": "code",
      "source": [
        "min_samples=2\n",
        "tree=DecissionTreeClassification(training_data, min_samples,2)\n",
        "pprint(tree)"
      ],
      "metadata": {
        "colab": {
          "base_uri": "https://localhost:8080/"
        },
        "id": "XnGOPCN48p5w",
        "outputId": "34eed70f-9b33-42f7-c208-c23d0ef9e01b"
      },
      "execution_count": 209,
      "outputs": [
        {
          "output_type": "stream",
          "name": "stdout",
          "text": [
            "{'Weight <= 80.03158404': [{'Weight <= 70.379599155': ['W', 'W']},\n",
            "                           {'Weight <= 85.44121835': ['M', 'M']}]}\n"
          ]
        }
      ]
    },
    {
      "cell_type": "code",
      "source": [
        "def predict_gender(test_data,tree):\n",
        "  # DecissionTreeClassification(training_data,max_depth)\n",
        "  decissionrule = list(tree.keys())[0]\n",
        "  #split based on spaces\n",
        "  feature_name, comparison_operator, value = decissionrule.split()\n",
        "  if test_data[feature_name] <= float(value):\n",
        "    answer = tree[decissionrule][0]\n",
        "  else:\n",
        "    answer = tree[decissionrule][1]\n",
        "  #if not dictionary we have reached the classification\n",
        "  if not isinstance(answer, dict):\n",
        "      return answer    \n",
        "  else:\n",
        "      sub_tree = answer\n",
        "      return predict_gender(test_data, sub_tree)"
      ],
      "metadata": {
        "id": "Om75PVlAaFo1"
      },
      "execution_count": 210,
      "outputs": []
    },
    {
      "cell_type": "code",
      "source": [
        "#testing first value of training data\n",
        "print(f'The predicted gender of{df.iloc[0]} is {predict_gender(df.iloc[0], tree)}')"
      ],
      "metadata": {
        "colab": {
          "base_uri": "https://localhost:8080/"
        },
        "id": "JKEtG6gRcqk1",
        "outputId": "75618f4d-e98f-406a-8172-c4a6b4aaac60"
      },
      "execution_count": 211,
      "outputs": [
        {
          "output_type": "stream",
          "name": "stdout",
          "text": [
            "The predicted gender ofHeight     1.798398\n",
            "Weight    72.545354\n",
            "Age              29\n",
            "Gender            W\n",
            "Name: 0, dtype: object is W\n"
          ]
        }
      ]
    },
    {
      "cell_type": "markdown",
      "source": [
        "2c . Divide the data set from Question 2c) in Homework 1 (the large training data set) into a training\n",
        "set comprising the first 90 data points and a test set consisting of the last 30 data elements. Use\n",
        "the resulting training set to derive trees of depths 1 - 8 and evaluate the accuracy of the resulting\n",
        "trees for the 90 training samples and for the test set containing the last 30 data items. Compare the\n",
        "classification accuracy on the test set with the one on the training set for each tree depth. For which\n",
        "depths does the result indicate overfitting ?"
      ],
      "metadata": {
        "id": "H6_ZfEktd0Tw"
      }
    },
    {
      "cell_type": "code",
      "source": [
        "def accuracy(data,tree):\n",
        "  correct=0\n",
        "  for i in range(len(data)):\n",
        "      if(predict_gender(data.iloc[i],tree)==data.iloc[i].Gender):\n",
        "        correct+=1\n",
        "  return (correct/len(data))*100"
      ],
      "metadata": {
        "id": "eDMYlfe7hsHt"
      },
      "execution_count": 212,
      "outputs": []
    },
    {
      "cell_type": "code",
      "source": [
        "train_data=df[:90]\n",
        "test_data=df[90:]\n",
        "print(f'Total elements in train Data now : {len(train_data)}')\n",
        "print(f'Total elements in test Data now : {len(test_data)}')\n",
        "depth=list(range(1,13))\n",
        "#print(depth)\n",
        "min_samples=2\n",
        "train_accuracy=[]\n",
        "test_accuracy=[]\n",
        "for i in depth:\n",
        "  tree=DecissionTreeClassification(train_data.values, min_samples,i)\n",
        "  print('------------------------------------------------------------')\n",
        "  print(f'Decission Tree for Depth {i}')\n",
        "  pprint(tree)\n",
        "  train_accuracy.append(accuracy(train_data,tree))\n",
        "  test_accuracy.append(accuracy(test_data,tree))\n",
        "  print(f'Train Data Accuracy for Depth {i} is  {accuracy(train_data,tree)}')\n",
        "  print(f'Test Data Accuracy for Depth {i} is {accuracy(test_data,tree)}')\n",
        "  print('------------------------------------------------------------')\n"
      ],
      "metadata": {
        "colab": {
          "base_uri": "https://localhost:8080/"
        },
        "id": "yiBuphUMddB_",
        "outputId": "4c406f7b-48f1-4b02-ea32-3cd19d6b9419"
      },
      "execution_count": 213,
      "outputs": [
        {
          "output_type": "stream",
          "name": "stdout",
          "text": [
            "Total elements in train Data now : 90\n",
            "Total elements in test Data now : 30\n",
            "------------------------------------------------------------\n",
            "Decission Tree for Depth 1\n",
            "{'Weight <= 78.85303006': ['W', 'M']}\n",
            "Train Data Accuracy for Depth 1 is  76.66666666666667\n",
            "Test Data Accuracy for Depth 1 is 60.0\n",
            "------------------------------------------------------------\n",
            "------------------------------------------------------------\n",
            "Decission Tree for Depth 2\n",
            "{'Weight <= 78.85303006': [{'Weight <= 70.379599155': ['W', 'W']},\n",
            "                           {'Weight <= 84.76644657': ['M', 'M']}]}\n",
            "Train Data Accuracy for Depth 2 is  76.66666666666667\n",
            "Test Data Accuracy for Depth 2 is 60.0\n",
            "------------------------------------------------------------\n",
            "------------------------------------------------------------\n",
            "Decission Tree for Depth 3\n",
            "{'Weight <= 78.85303006': [{'Weight <= 70.379599155': ['W',\n",
            "                                                       {'Weight <= 70.70848896': ['M',\n",
            "                                                                                  'W']}]},\n",
            "                           {'Weight <= 84.76644657': [{'Age <= 25.5': ['M',\n",
            "                                                                       'W']},\n",
            "                                                      {'Weight <= 92.83408675': ['M',\n",
            "                                                                                 'W']}]}]}\n",
            "Train Data Accuracy for Depth 3 is  81.11111111111111\n",
            "Test Data Accuracy for Depth 3 is 76.66666666666667\n",
            "------------------------------------------------------------\n",
            "------------------------------------------------------------\n",
            "Decission Tree for Depth 4\n",
            "{'Weight <= 78.85303006': [{'Weight <= 70.379599155': ['W',\n",
            "                                                       {'Weight <= 70.70848896': ['M',\n",
            "                                                                                  {'Weight <= 77.681643675': ['W',\n",
            "                                                                                                              'W']}]}]},\n",
            "                           {'Weight <= 84.76644657': [{'Age <= 25.5': [{'Height <= 1.7579666475': ['M',\n",
            "                                                                                                   'M']},\n",
            "                                                                       {'Height <= 1.8304926575': ['W',\n",
            "                                                                                                   'M']}]},\n",
            "                                                      {'Weight <= 92.83408675': ['M',\n",
            "                                                                                 'W']}]}]}\n",
            "Train Data Accuracy for Depth 4 is  84.44444444444444\n",
            "Test Data Accuracy for Depth 4 is 70.0\n",
            "------------------------------------------------------------\n",
            "------------------------------------------------------------\n",
            "Decission Tree for Depth 5\n",
            "{'Weight <= 78.85303006': [{'Weight <= 70.379599155': ['W',\n",
            "                                                       {'Weight <= 70.70848896': ['M',\n",
            "                                                                                  {'Weight <= 77.681643675': [{'Height <= 1.8486390725000001': ['W',\n",
            "                                                                                                                                                'M']},\n",
            "                                                                                                              'W']}]}]},\n",
            "                           {'Weight <= 84.76644657': [{'Age <= 25.5': [{'Height <= 1.7579666475': ['M',\n",
            "                                                                                                   {'Height <= 1.7840411784999999': ['W',\n",
            "                                                                                                                                     'M']}]},\n",
            "                                                                       {'Height <= 1.8304926575': [{'Height <= 1.743312558': ['M',\n",
            "                                                                                                                              'W']},\n",
            "                                                                                                   'M']}]},\n",
            "                                                      {'Weight <= 92.83408675': ['M',\n",
            "                                                                                 'W']}]}]}\n",
            "Train Data Accuracy for Depth 5 is  90.0\n",
            "Test Data Accuracy for Depth 5 is 70.0\n",
            "------------------------------------------------------------\n",
            "------------------------------------------------------------\n",
            "Decission Tree for Depth 6\n",
            "{'Weight <= 78.85303006': [{'Weight <= 70.379599155': ['W',\n",
            "                                                       {'Weight <= 70.70848896': ['M',\n",
            "                                                                                  {'Weight <= 77.681643675': [{'Height <= 1.8486390725000001': [{'Height <= 1.7800171790000001': ['W',\n",
            "                                                                                                                                                                                  'W']},\n",
            "                                                                                                                                                'M']},\n",
            "                                                                                                              'W']}]}]},\n",
            "                           {'Weight <= 84.76644657': [{'Age <= 25.5': [{'Height <= 1.7579666475': ['M',\n",
            "                                                                                                   {'Height <= 1.7840411784999999': ['W',\n",
            "                                                                                                                                     {'Weight <= 81.822536485': ['M',\n",
            "                                                                                                                                                                 'M']}]}]},\n",
            "                                                                       {'Height <= 1.8304926575': [{'Height <= 1.743312558': [{'Height <= 1.7273370435': ['W',\n",
            "                                                                                                                                                          'M']},\n",
            "                                                                                                                              'W']},\n",
            "                                                                                                   'M']}]},\n",
            "                                                      {'Weight <= 92.83408675': ['M',\n",
            "                                                                                 'W']}]}]}\n",
            "Train Data Accuracy for Depth 6 is  91.11111111111111\n",
            "Test Data Accuracy for Depth 6 is 66.66666666666666\n",
            "------------------------------------------------------------\n",
            "------------------------------------------------------------\n",
            "Decission Tree for Depth 7\n",
            "{'Weight <= 78.85303006': [{'Weight <= 70.379599155': ['W',\n",
            "                                                       {'Weight <= 70.70848896': ['M',\n",
            "                                                                                  {'Weight <= 77.681643675': [{'Height <= 1.8486390725000001': [{'Height <= 1.7800171790000001': [{'Height <= 1.769290931': ['W',\n",
            "                                                                                                                                                                                                             'M']},\n",
            "                                                                                                                                                                                  'W']},\n",
            "                                                                                                                                                'M']},\n",
            "                                                                                                              'W']}]}]},\n",
            "                           {'Weight <= 84.76644657': [{'Age <= 25.5': [{'Height <= 1.7579666475': ['M',\n",
            "                                                                                                   {'Height <= 1.7840411784999999': ['W',\n",
            "                                                                                                                                     {'Weight <= 81.822536485': [{'Height <= 1.841683562': ['W',\n",
            "                                                                                                                                                                                            'M']},\n",
            "                                                                                                                                                                 'M']}]}]},\n",
            "                                                                       {'Height <= 1.8304926575': [{'Height <= 1.743312558': [{'Height <= 1.7273370435': ['W',\n",
            "                                                                                                                                                          'M']},\n",
            "                                                                                                                              'W']},\n",
            "                                                                                                   'M']}]},\n",
            "                                                      {'Weight <= 92.83408675': ['M',\n",
            "                                                                                 'W']}]}]}\n",
            "Train Data Accuracy for Depth 7 is  94.44444444444444\n",
            "Test Data Accuracy for Depth 7 is 63.33333333333333\n",
            "------------------------------------------------------------\n",
            "------------------------------------------------------------\n",
            "Decission Tree for Depth 8\n",
            "{'Weight <= 78.85303006': [{'Weight <= 70.379599155': ['W',\n",
            "                                                       {'Weight <= 70.70848896': ['M',\n",
            "                                                                                  {'Weight <= 77.681643675': [{'Height <= 1.8486390725000001': [{'Height <= 1.7800171790000001': [{'Height <= 1.769290931': [{'Height <= 1.7283792615': ['W',\n",
            "                                                                                                                                                                                                                                         'W']},\n",
            "                                                                                                                                                                                                             'M']},\n",
            "                                                                                                                                                                                  'W']},\n",
            "                                                                                                                                                'M']},\n",
            "                                                                                                              'W']}]}]},\n",
            "                           {'Weight <= 84.76644657': [{'Age <= 25.5': [{'Height <= 1.7579666475': ['M',\n",
            "                                                                                                   {'Height <= 1.7840411784999999': ['W',\n",
            "                                                                                                                                     {'Weight <= 81.822536485': [{'Height <= 1.841683562': ['W',\n",
            "                                                                                                                                                                                            {'Height <= 1.9130260835000001': ['M',\n",
            "                                                                                                                                                                                                                              'W']}]},\n",
            "                                                                                                                                                                 'M']}]}]},\n",
            "                                                                       {'Height <= 1.8304926575': [{'Height <= 1.743312558': [{'Height <= 1.7273370435': ['W',\n",
            "                                                                                                                                                          'M']},\n",
            "                                                                                                                              'W']},\n",
            "                                                                                                   'M']}]},\n",
            "                                                      {'Weight <= 92.83408675': ['M',\n",
            "                                                                                 'W']}]}]}\n",
            "Train Data Accuracy for Depth 8 is  95.55555555555556\n",
            "Test Data Accuracy for Depth 8 is 63.33333333333333\n",
            "------------------------------------------------------------\n",
            "------------------------------------------------------------\n",
            "Decission Tree for Depth 9\n",
            "{'Weight <= 78.85303006': [{'Weight <= 70.379599155': ['W',\n",
            "                                                       {'Weight <= 70.70848896': ['M',\n",
            "                                                                                  {'Weight <= 77.681643675': [{'Height <= 1.8486390725000001': [{'Height <= 1.7800171790000001': [{'Height <= 1.769290931': [{'Height <= 1.7283792615': [{'Height <= 1.716610316': ['W',\n",
            "                                                                                                                                                                                                                                                                    'M']},\n",
            "                                                                                                                                                                                                                                         'W']},\n",
            "                                                                                                                                                                                                             'M']},\n",
            "                                                                                                                                                                                  'W']},\n",
            "                                                                                                                                                'M']},\n",
            "                                                                                                              'W']}]}]},\n",
            "                           {'Weight <= 84.76644657': [{'Age <= 25.5': [{'Height <= 1.7579666475': ['M',\n",
            "                                                                                                   {'Height <= 1.7840411784999999': ['W',\n",
            "                                                                                                                                     {'Weight <= 81.822536485': [{'Height <= 1.841683562': ['W',\n",
            "                                                                                                                                                                                            {'Height <= 1.9130260835000001': ['M',\n",
            "                                                                                                                                                                                                                              'W']}]},\n",
            "                                                                                                                                                                 'M']}]}]},\n",
            "                                                                       {'Height <= 1.8304926575': [{'Height <= 1.743312558': [{'Height <= 1.7273370435': ['W',\n",
            "                                                                                                                                                          'M']},\n",
            "                                                                                                                              'W']},\n",
            "                                                                                                   'M']}]},\n",
            "                                                      {'Weight <= 92.83408675': ['M',\n",
            "                                                                                 'W']}]}]}\n",
            "Train Data Accuracy for Depth 9 is  97.77777777777777\n",
            "Test Data Accuracy for Depth 9 is 63.33333333333333\n",
            "------------------------------------------------------------\n",
            "------------------------------------------------------------\n",
            "Decission Tree for Depth 10\n",
            "{'Weight <= 78.85303006': [{'Weight <= 70.379599155': ['W',\n",
            "                                                       {'Weight <= 70.70848896': ['M',\n",
            "                                                                                  {'Weight <= 77.681643675': [{'Height <= 1.8486390725000001': [{'Height <= 1.7800171790000001': [{'Height <= 1.769290931': [{'Height <= 1.7283792615': [{'Height <= 1.716610316': [{'Weight <= 75.1059625': ['W',\n",
            "                                                                                                                                                                                                                                                                                              'M']},\n",
            "                                                                                                                                                                                                                                                                    'M']},\n",
            "                                                                                                                                                                                                                                         'W']},\n",
            "                                                                                                                                                                                                             'M']},\n",
            "                                                                                                                                                                                  'W']},\n",
            "                                                                                                                                                'M']},\n",
            "                                                                                                              'W']}]}]},\n",
            "                           {'Weight <= 84.76644657': [{'Age <= 25.5': [{'Height <= 1.7579666475': ['M',\n",
            "                                                                                                   {'Height <= 1.7840411784999999': ['W',\n",
            "                                                                                                                                     {'Weight <= 81.822536485': [{'Height <= 1.841683562': ['W',\n",
            "                                                                                                                                                                                            {'Height <= 1.9130260835000001': ['M',\n",
            "                                                                                                                                                                                                                              'W']}]},\n",
            "                                                                                                                                                                 'M']}]}]},\n",
            "                                                                       {'Height <= 1.8304926575': [{'Height <= 1.743312558': [{'Height <= 1.7273370435': ['W',\n",
            "                                                                                                                                                          'M']},\n",
            "                                                                                                                              'W']},\n",
            "                                                                                                   'M']}]},\n",
            "                                                      {'Weight <= 92.83408675': ['M',\n",
            "                                                                                 'W']}]}]}\n",
            "Train Data Accuracy for Depth 10 is  98.88888888888889\n",
            "Test Data Accuracy for Depth 10 is 63.33333333333333\n",
            "------------------------------------------------------------\n",
            "------------------------------------------------------------\n",
            "Decission Tree for Depth 11\n",
            "{'Weight <= 78.85303006': [{'Weight <= 70.379599155': ['W',\n",
            "                                                       {'Weight <= 70.70848896': ['M',\n",
            "                                                                                  {'Weight <= 77.681643675': [{'Height <= 1.8486390725000001': [{'Height <= 1.7800171790000001': [{'Height <= 1.769290931': [{'Height <= 1.7283792615': [{'Height <= 1.716610316': [{'Weight <= 75.1059625': ['W',\n",
            "                                                                                                                                                                                                                                                                                              {'Height <= 1.694738324': ['M',\n",
            "                                                                                                                                                                                                                                                                                                                         'W']}]},\n",
            "                                                                                                                                                                                                                                                                    'M']},\n",
            "                                                                                                                                                                                                                                         'W']},\n",
            "                                                                                                                                                                                                             'M']},\n",
            "                                                                                                                                                                                  'W']},\n",
            "                                                                                                                                                'M']},\n",
            "                                                                                                              'W']}]}]},\n",
            "                           {'Weight <= 84.76644657': [{'Age <= 25.5': [{'Height <= 1.7579666475': ['M',\n",
            "                                                                                                   {'Height <= 1.7840411784999999': ['W',\n",
            "                                                                                                                                     {'Weight <= 81.822536485': [{'Height <= 1.841683562': ['W',\n",
            "                                                                                                                                                                                            {'Height <= 1.9130260835000001': ['M',\n",
            "                                                                                                                                                                                                                              'W']}]},\n",
            "                                                                                                                                                                 'M']}]}]},\n",
            "                                                                       {'Height <= 1.8304926575': [{'Height <= 1.743312558': [{'Height <= 1.7273370435': ['W',\n",
            "                                                                                                                                                          'M']},\n",
            "                                                                                                                              'W']},\n",
            "                                                                                                   'M']}]},\n",
            "                                                      {'Weight <= 92.83408675': ['M',\n",
            "                                                                                 'W']}]}]}\n",
            "Train Data Accuracy for Depth 11 is  100.0\n",
            "Test Data Accuracy for Depth 11 is 63.33333333333333\n",
            "------------------------------------------------------------\n",
            "------------------------------------------------------------\n",
            "Decission Tree for Depth 12\n",
            "{'Weight <= 78.85303006': [{'Weight <= 70.379599155': ['W',\n",
            "                                                       {'Weight <= 70.70848896': ['M',\n",
            "                                                                                  {'Weight <= 77.681643675': [{'Height <= 1.8486390725000001': [{'Height <= 1.7800171790000001': [{'Height <= 1.769290931': [{'Height <= 1.7283792615': [{'Height <= 1.716610316': [{'Weight <= 75.1059625': ['W',\n",
            "                                                                                                                                                                                                                                                                                              {'Height <= 1.694738324': ['M',\n",
            "                                                                                                                                                                                                                                                                                                                         'W']}]},\n",
            "                                                                                                                                                                                                                                                                    'M']},\n",
            "                                                                                                                                                                                                                                         'W']},\n",
            "                                                                                                                                                                                                             'M']},\n",
            "                                                                                                                                                                                  'W']},\n",
            "                                                                                                                                                'M']},\n",
            "                                                                                                              'W']}]}]},\n",
            "                           {'Weight <= 84.76644657': [{'Age <= 25.5': [{'Height <= 1.7579666475': ['M',\n",
            "                                                                                                   {'Height <= 1.7840411784999999': ['W',\n",
            "                                                                                                                                     {'Weight <= 81.822536485': [{'Height <= 1.841683562': ['W',\n",
            "                                                                                                                                                                                            {'Height <= 1.9130260835000001': ['M',\n",
            "                                                                                                                                                                                                                              'W']}]},\n",
            "                                                                                                                                                                 'M']}]}]},\n",
            "                                                                       {'Height <= 1.8304926575': [{'Height <= 1.743312558': [{'Height <= 1.7273370435': ['W',\n",
            "                                                                                                                                                          'M']},\n",
            "                                                                                                                              'W']},\n",
            "                                                                                                   'M']}]},\n",
            "                                                      {'Weight <= 92.83408675': ['M',\n",
            "                                                                                 'W']}]}]}\n",
            "Train Data Accuracy for Depth 12 is  100.0\n",
            "Test Data Accuracy for Depth 12 is 63.33333333333333\n",
            "------------------------------------------------------------\n"
          ]
        }
      ]
    },
    {
      "cell_type": "markdown",
      "source": [
        "Overfitting of Decission Tree - Tightly fitting the training data so much for getting maximum training accuracy "
      ],
      "metadata": {
        "id": "LKEsu3kRmH4n"
      }
    },
    {
      "cell_type": "code",
      "source": [
        "index = train_accuracy.index(100)\n",
        "test_index=test_accuracy.index(max(test_accuracy))\n",
        "print(f'Overfiiting occured at Depth {index+1}')\n",
        "print(f'Maximum Test Accuacy is  at Depth {test_index+1} and Accuracy is {test_accuracy[test_index]}')"
      ],
      "metadata": {
        "colab": {
          "base_uri": "https://localhost:8080/"
        },
        "id": "daRi1ix5lpn_",
        "outputId": "94148eec-6349-46a7-c04f-27bbc51e9b05"
      },
      "execution_count": 214,
      "outputs": [
        {
          "output_type": "stream",
          "name": "stdout",
          "text": [
            "Overfiiting occured at Depth 11\n",
            "Maximum Test Accuacy is  at Depth 3 and Accuracy is 76.66666666666667\n"
          ]
        }
      ]
    }
  ]
}