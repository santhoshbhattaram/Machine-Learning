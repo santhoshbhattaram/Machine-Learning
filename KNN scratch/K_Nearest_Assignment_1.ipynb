{
  "cells": [
    {
      "cell_type": "markdown",
      "source": [
        "## **2. Implementing KNN algorithm**\n",
        "\n",
        "## **Please remove the headers for both training & testing data in csv before loading it**\n",
        "\n",
        "\n",
        "Steps:\n",
        "\n",
        "\n",
        "*   First we should cartesian product from test data point to each of Training data point.\n",
        "*   Sort the distances, points(w.r.t distance), Then find the k-nearest neigbors based on k-values (k=1,3,5).\n",
        "*   Based on the k-nearest neighbours found, check the maximum count of the label(output value) appears and return it as the predicted label(output derived)\n",
        "*   Accuray metric: For this we are using leave-one-out algorithm, in this we remove one point each time from the training data and check whether predicted value of the removed equal to actual value, If so increment the correctness counter and find  accuracy as 100(correct/total no of data points). Same way percentage of errorneous as 100(incorrect/total no of data points).\n",
        "\n",
        "\n",
        "\n",
        "\n",
        "\n"
      ],
      "metadata": {
        "id": "yDhKIQ_TeXCg"
      }
    },
    {
      "cell_type": "code",
      "execution_count": 109,
      "metadata": {
        "id": "pft0dQtCsUSv"
      },
      "outputs": [],
      "source": [
        "from csv import reader\n",
        "from math import sqrt\n",
        "\n",
        "#Read CSV File \n",
        "def read_csv(filename):\n",
        "  training_data=list()\n",
        "  with open(filename,mode='r',encoding='utf-8-sig') as file:\n",
        "    csv_reader = reader(file)\n",
        "    for row in csv_reader:\n",
        "      if not row:\n",
        "        continue\n",
        "      training_data.append(row)\n",
        "  return training_data\n",
        "\n",
        "#preprocess data -  removes the blank spaces and covert the input data parameters to float value.\n",
        "def preprocessing(training_dat):\n",
        "  for row in training_dat:\n",
        "    for i in range(len(training_dat[0])-1):\n",
        "      #print(row[i])\n",
        "      row[i]=float(row[i].strip())\n",
        "  return training_dat   \n",
        "# Find cartesian Distance between the data points\n",
        "def  cartesian_distance(r1,r2):\n",
        "  distance=0.0\n",
        "  for i in range(len(r1)-1):\n",
        "    #print(r1[i],r2[i])\n",
        "    distance+=(r1[i]-r2[i])**2\n",
        "  #print(sqrt(distance))\n",
        "  return sqrt(distance)\n",
        "\n",
        "# Get distance vector - finds the distance between the test data point and each training data points and sorts based on distance\n",
        "def get_distancevector(training_data,test_data):\n",
        "  distance=list()\n",
        "  for i in training_data:\n",
        "    distance.append((i,cartesian_distance(i,test_data)))\n",
        "  distance.sort(key=lambda tup: tup[1]) # sort tuples based on nearest distance(w.r.t distance)\n",
        "  #print('Distance Vector:')\n",
        "  #print(distance)\n",
        "  return distance\n",
        "\n",
        "#Get K Neighbours - we will find the k-nearest neigbors based on the distance vector found\n",
        "def get_kneighbors(distance,k):\n",
        "  neighbors = list()\n",
        "  #print(f'k={k} nearest neighbours')\n",
        "  for i in range(k):\n",
        "    neighbors.append(distance[i][0])\n",
        "  #print(neighbors)\n",
        "  return neighbors\n",
        "  \n",
        "#Predict the gender - takes training data, test data, k-value as input and predicts the gender \n",
        "def predict_gender(training_data,test_data,k):\n",
        "  distance=get_distancevector(training_data,test_data)\n",
        "  kneighbors=get_kneighbors(distance,k)\n",
        "  labels = [row[-1] for row in kneighbors]\n",
        "  prediction = max(set(labels), key=labels.count)\n",
        "  return prediction\n",
        "\n",
        "#leave out evaluation - gives the \n",
        "def leave_out(training_dat):\n",
        "  leaveout=[]\n",
        "  correct=0\n",
        "  counter=0\n",
        "  train=training_dat.copy()\n",
        "  accuracy=[]\n",
        "  error=[]\n",
        "  for k_val in [1,3,5]:\n",
        "    correct=0\n",
        "    counter=0\n",
        "    incorrect=0\n",
        "    for i in training_dat:\n",
        "      leaveout=train.copy()\n",
        "      leaveout.remove(i)\n",
        "      #print(len(leaveout))\n",
        "      counter+=1\n",
        "      predicted=predict_gender(leaveout,i,k_val)\n",
        "      actual=i[-1]\n",
        "      #print(f'Predicted :{predicted} , actual {actual},{i}')\n",
        "      if(predicted==actual):\n",
        "        #print(f'Predicted :{predicted} , actual {actual},{i}')\n",
        "        correct+=1\n",
        "      else:\n",
        "        incorrect+=1\n",
        "    accurate=(correct/counter)*100\n",
        "    erroneous=(incorrect/counter)*100\n",
        "    accuracy.append(accurate)\n",
        "    error.append(erroneous)\n",
        "    #print(correct,incorrect)\n",
        "  return accuracy,error\n",
        "\n",
        "def getbest_kvalue(accuracy):\n",
        "  k_value={0:1,1:3,2:5}\n",
        "  best_value=list()\n",
        "  for i in range(len(accuracy)):\n",
        "    if(accuracy[i]==max(accuracy)):\n",
        "      best_value.append(k_value[i])\n",
        "  return best_value\n",
        "\n",
        "# distance=list()\n",
        "# for i in training_data:\n",
        "#   distance.append((i,cartesian_distance(test_data,i)))\n",
        "# print(distance)"
      ]
    },
    {
      "cell_type": "markdown",
      "source": [
        "**2a. Using Cartesian distance as the similarity measurements show the results of the gender prediction\n",
        "for the Evaluation data that you generated above for Question 2 a) based on the corresponding\n",
        "generated training data for values of K of 1, 3, and 5. Include the intermedia steps (i.e. distance\n",
        "calculation, neighbor selection, prediction)**\n",
        "\n",
        "For 2a I have trained the given data provided and predicted classification for each test data point by providing intermediate steps with k-values (1,3,5) as mentioned in problem.\n",
        "\n",
        "Intermediate steps like :\n",
        "\n",
        "\n",
        "1.   Finding Cartesian product between train data w.rt. each test data point and sorting it based on the nearest distance.  \n",
        "2.   Finding the k- nearest neighbors for values of k(1,3,5)\n",
        "3.   Predicting the classification of test data point for each k-values(1,3,5) based on the maximum count of label values appeared in the k-nearest neighbor set.\n",
        "\n",
        "\n",
        "Also I have shown the best k-value based on the accuracy metrics based on leave one out algorithm results. \n"
      ],
      "metadata": {
        "id": "Wv0fD2PzgwKM"
      }
    },
    {
      "cell_type": "code",
      "execution_count": 118,
      "metadata": {
        "colab": {
          "base_uri": "https://localhost:8080/"
        },
        "id": "s5D3pcRgZMVS",
        "outputId": "97207dfd-8a8f-4486-daaa-6febf137dc58"
      },
      "outputs": [
        {
          "output_type": "stream",
          "name": "stdout",
          "text": [
            "Training Data: [[1.701405128, 65.56667967, 30.0, 'W'], [1.720534988, 76.55007232, 24.0, 'M'], [1.82200208, 75.86436618, 30.0, 'M'], [1.798131168, 77.15315473, 32.0, 'M'], [1.682933208, 72.68980647, 34.0, 'M'], [1.696417484, 77.60294632, 33.0, 'M'], [1.608517593, 71.5512203, 32.0, 'M'], [1.781264348, 75.88996367, 29.0, 'M'], [1.563862003, 65.45241222, 23.0, 'W'], [1.859291877, 65.00842059, 32.0, 'W'], [1.589276535, 59.92227629, 32.0, 'W'], [1.836275839, 75.01700292, 31.0, 'W'], [1.618344662, 65.82794895, 30.0, 'W'], [1.503678782, 55.42614147, 27.0, 'W']]\n",
            "---------Intermediate Steps----------\n",
            "Cartesian Distance Vecor (between each training data point to test data point\n",
            "[1.816359375, 76.2084063, 41.0] : [([1.682933208, 72.68980647, 34.0, 'M'], 7.8357097512424705), ([1.696417484, 77.60294632, 33.0, 'M'], 8.1215225127188), ([1.798131168, 77.15315473, 32.0, 'M'], 9.049468595642393), ([1.836275839, 75.01700292, 31.0, 'W'], 10.07074171446243), ([1.608517593, 71.5512203, 32.0, 'M'], 10.135708147186406), ([1.82200208, 75.86436618, 30.0, 'M'], 11.005380295305079), ([1.781264348, 75.88996367, 29.0, 'M'], 12.004275795295667), ([1.859291877, 65.00842059, 32.0, 'W'], 14.368073047696132), ([1.618344662, 65.82794895, 30.0, 'W'], 15.125908389968956), ([1.701405128, 65.56667967, 30.0, 'W'], 15.305540178201955), ([1.720534988, 76.55007232, 24.0, 'M'], 17.0037030667548), ([1.589276535, 59.92227629, 32.0, 'W'], 18.608858033711925), ([1.563862003, 65.45241222, 23.0, 'W'], 20.97034009194562), ([1.503678782, 55.42614147, 27.0, 'W'], 25.05993417025459)]\n",
            "[1.678594558, 66.38138295, 35.0] : [([1.859291877, 65.00842059, 32.0, 'W'], 3.304190848463594), ([1.618344662, 65.82794895, 30.0, 'W'], 5.030896465076975), ([1.701405128, 65.56667967, 30.0, 'W'], 5.065990698426764), ([1.608517593, 71.5512203, 32.0, 'M'], 5.9776357371856115), ([1.682933208, 72.68980647, 34.0, 'M'], 6.387192351227016), ([1.589276535, 59.92227629, 32.0, 'W'], 7.122361725894651), ([1.836275839, 75.01700292, 31.0, 'W'], 9.51833996307342), ([1.82200208, 75.86436618, 30.0, 'M'], 10.721358899776998), ([1.798131168, 77.15315473, 32.0, 'M'], 11.18236809810581), ([1.781264348, 75.88996367, 29.0, 'M'], 11.243827124006057), ([1.696417484, 77.60294632, 33.0, 'M'], 11.39841226327671), ([1.563862003, 65.45241222, 23.0, 'W'], 12.03645089618919), ([1.503678782, 55.42614147, 27.0, 'W'], 13.566425889445105), ([1.720534988, 76.55007232, 24.0, 'M'], 14.980120243283078)]\n",
            "[1.358094966, 50.62872198, 30.0] : [([1.503678782, 55.42614147, 27.0, 'W'], 5.660073180667626), ([1.589276535, 59.92227629, 32.0, 'W'], 9.509132275384797), ([1.859291877, 65.00842059, 32.0, 'W'], 14.526766001351843), ([1.701405128, 65.56667967, 30.0, 'W'], 14.941902215433032), ([1.618344662, 65.82794895, 30.0, 'W'], 15.201454877407084), ([1.563862003, 65.45241222, 23.0, 'W'], 16.39463730629583), ([1.608517593, 71.5512203, 32.0, 'M'], 21.019363630769515), ([1.682933208, 72.68980647, 34.0, 'M'], 22.423134677345715), ([1.836275839, 75.01700292, 31.0, 'W'], 24.413457439610436), ([1.82200208, 75.86436618, 30.0, 'M'], 25.239907844511112), ([1.781264348, 75.88996367, 29.0, 'M'], 25.284568496346864), ([1.798131168, 77.15315473, 32.0, 'M'], 26.603367541879784), ([1.720534988, 76.55007232, 24.0, 'M'], 26.60916695837292), ([1.696417484, 77.60294632, 33.0, 'M'], 27.142646165597675)]\n",
            "[1.890832926, 78.62041861, 30.0] : [([1.798131168, 77.15315473, 32.0, 'M'], 2.482228214626721), ([1.82200208, 75.86436618, 30.0, 'M'], 2.7569118016849874), ([1.781264348, 75.88996367, 29.0, 'M'], 2.909877910266229), ([1.696417484, 77.60294632, 33.0, 'M'], 3.173806425257517), ([1.836275839, 75.01700292, 31.0, 'W'], 3.739997474689006), ([1.720534988, 76.55007232, 24.0, 'M'], 6.349435813377739), ([1.682933208, 72.68980647, 34.0, 'M'], 7.156492342471971), ([1.608517593, 71.5512203, 32.0, 'M'], 7.352092674426365), ([1.618344662, 65.82794895, 30.0, 'W'], 12.79537142313728), ([1.701405128, 65.56667967, 30.0, 'W'], 13.05511329726125), ([1.859291877, 65.00842059, 32.0, 'W'], 13.758178837849725), ([1.563862003, 65.45241222, 23.0, 'W'], 14.91654458216005), ([1.589276535, 59.92227629, 32.0, 'W'], 18.807218360935995), ([1.503678782, 55.42614147, 27.0, 'W'], 23.390690036387195)]\n",
            "------------ k value = 1---------------------------------\n",
            "1-nearest neighbor of [1.816359375, 76.2084063, 41.0] is [[1.682933208, 72.68980647, 34.0, 'M']]\n",
            " Predicted Gender of Test Data : [1.816359375, 76.2084063, 41.0] is  M for k value 1\n",
            "1-nearest neighbor of [1.678594558, 66.38138295, 35.0] is [[1.859291877, 65.00842059, 32.0, 'W']]\n",
            " Predicted Gender of Test Data : [1.678594558, 66.38138295, 35.0] is  W for k value 1\n",
            "1-nearest neighbor of [1.358094966, 50.62872198, 30.0] is [[1.503678782, 55.42614147, 27.0, 'W']]\n",
            " Predicted Gender of Test Data : [1.358094966, 50.62872198, 30.0] is  W for k value 1\n",
            "1-nearest neighbor of [1.890832926, 78.62041861, 30.0] is [[1.798131168, 77.15315473, 32.0, 'M']]\n",
            " Predicted Gender of Test Data : [1.890832926, 78.62041861, 30.0] is  M for k value 1\n",
            "---------------------------------------------\n",
            "------------ k value = 3---------------------------------\n",
            "3-nearest neighbor of [1.816359375, 76.2084063, 41.0] is [[1.682933208, 72.68980647, 34.0, 'M'], [1.696417484, 77.60294632, 33.0, 'M'], [1.798131168, 77.15315473, 32.0, 'M']]\n",
            " Predicted Gender of Test Data : [1.816359375, 76.2084063, 41.0] is  M for k value 3\n",
            "3-nearest neighbor of [1.678594558, 66.38138295, 35.0] is [[1.859291877, 65.00842059, 32.0, 'W'], [1.618344662, 65.82794895, 30.0, 'W'], [1.701405128, 65.56667967, 30.0, 'W']]\n",
            " Predicted Gender of Test Data : [1.678594558, 66.38138295, 35.0] is  W for k value 3\n",
            "3-nearest neighbor of [1.358094966, 50.62872198, 30.0] is [[1.503678782, 55.42614147, 27.0, 'W'], [1.589276535, 59.92227629, 32.0, 'W'], [1.859291877, 65.00842059, 32.0, 'W']]\n",
            " Predicted Gender of Test Data : [1.358094966, 50.62872198, 30.0] is  W for k value 3\n",
            "3-nearest neighbor of [1.890832926, 78.62041861, 30.0] is [[1.798131168, 77.15315473, 32.0, 'M'], [1.82200208, 75.86436618, 30.0, 'M'], [1.781264348, 75.88996367, 29.0, 'M']]\n",
            " Predicted Gender of Test Data : [1.890832926, 78.62041861, 30.0] is  M for k value 3\n",
            "---------------------------------------------\n",
            "------------ k value = 5---------------------------------\n",
            "5-nearest neighbor of [1.816359375, 76.2084063, 41.0] is [[1.682933208, 72.68980647, 34.0, 'M'], [1.696417484, 77.60294632, 33.0, 'M'], [1.798131168, 77.15315473, 32.0, 'M'], [1.836275839, 75.01700292, 31.0, 'W'], [1.608517593, 71.5512203, 32.0, 'M']]\n",
            " Predicted Gender of Test Data : [1.816359375, 76.2084063, 41.0] is  M for k value 5\n",
            "5-nearest neighbor of [1.678594558, 66.38138295, 35.0] is [[1.859291877, 65.00842059, 32.0, 'W'], [1.618344662, 65.82794895, 30.0, 'W'], [1.701405128, 65.56667967, 30.0, 'W'], [1.608517593, 71.5512203, 32.0, 'M'], [1.682933208, 72.68980647, 34.0, 'M']]\n",
            " Predicted Gender of Test Data : [1.678594558, 66.38138295, 35.0] is  W for k value 5\n",
            "5-nearest neighbor of [1.358094966, 50.62872198, 30.0] is [[1.503678782, 55.42614147, 27.0, 'W'], [1.589276535, 59.92227629, 32.0, 'W'], [1.859291877, 65.00842059, 32.0, 'W'], [1.701405128, 65.56667967, 30.0, 'W'], [1.618344662, 65.82794895, 30.0, 'W']]\n",
            " Predicted Gender of Test Data : [1.358094966, 50.62872198, 30.0] is  W for k value 5\n",
            "5-nearest neighbor of [1.890832926, 78.62041861, 30.0] is [[1.798131168, 77.15315473, 32.0, 'M'], [1.82200208, 75.86436618, 30.0, 'M'], [1.781264348, 75.88996367, 29.0, 'M'], [1.696417484, 77.60294632, 33.0, 'M'], [1.836275839, 75.01700292, 31.0, 'W']]\n",
            " Predicted Gender of Test Data : [1.890832926, 78.62041861, 30.0] is  M for k value 5\n",
            "---------------------------------------------\n",
            "Accuracy : [92.85714285714286, 92.85714285714286, 92.85714285714286]\n",
            "Percentage of Error : [7.142857142857142, 7.142857142857142, 7.142857142857142]\n",
            "Accuracy by Leaveout is same for more than one k value\n",
            "Best k- values :[1, 3, 5]\n"
          ]
        }
      ],
      "source": [
        "training_data1 = read_csv('sample_data/2a.csv') #training data csv file w.rt path\n",
        "training_data1=preprocessing(training_data1)\n",
        "print(f'Training Data: {training_data1}')\n",
        "test_data=read_csv('sample_data/2a-test_data.csv') #testing data csv file w.rt path\n",
        "for row in test_data:\n",
        "  row[-1]=float(row[-1])\n",
        "test_data=preprocessing(test_data)\n",
        "#test_data=[1.701405128, 65.56667967, 30.0]\n",
        "# test_data=[[1.701405128, 65.56667967, 30.0],[1.8163593752776,76.208406302238,41],\n",
        "# [1.6785945584928,66.381382952056,35],\n",
        "# [1.3580949660159,50.628721984235, 30],\n",
        "# [1.890832925627,78.620418611079,30]]\n",
        "print('---------Intermediate Steps----------')\n",
        "print('Cartesian Distance Vecor (between each training data point to test data point')\n",
        "for i in test_data:\n",
        "  distance=get_distancevector(training_data1,i)\n",
        "  print(f'{i} : {distance}')  \n",
        "for k in [1,3,5]:\n",
        "  print(f'------------ k value = {k}---------------------------------')\n",
        "  for i in test_data:   \n",
        "    distance=get_distancevector(training_data1,i)\n",
        "    print(f'{k}-nearest neighbor of {i} is {get_kneighbors(distance,k)}')\n",
        "    predicted=predict_gender(training_data1,i,k)\n",
        "    print(f' Predicted Gender of Test Data : {i} is  {predicted} for k value {k}')\n",
        "  print('---------------------------------------------')\n",
        "\n",
        "accuracy,percentage_error=leave_out(training_data1)\n",
        "print(f'Accuracy : {accuracy}')\n",
        "print(f'Percentage of Error : {percentage_error}')\n",
        "best_k=getbest_kvalue(accuracy)\n",
        "if(len(best_k)>1):\n",
        "  print('Accuracy by Leaveout is same for more than one k value')\n",
        "  print(f'Best k- values :{best_k}')\n",
        "else:\n",
        "  print(f'Best k- value :{best_k}')"
      ]
    },
    {
      "cell_type": "markdown",
      "source": [
        "**2b & 2c Implemented KNN algorithm and allowed to input the test data point parameters,taken training data file name as well,allowing to train on different data.**  \n",
        "\n",
        "Please input valid file path of the training data accordingly.\n",
        "\n",
        "Leave out algorithm is implemented for the best"
      ],
      "metadata": {
        "id": "KjrNLJoXk5X9"
      }
    },
    {
      "cell_type": "code",
      "execution_count": 111,
      "metadata": {
        "colab": {
          "base_uri": "https://localhost:8080/"
        },
        "id": "gQNxp6_uQY2C",
        "outputId": "35ba9fe6-f896-4e55-ddbc-a4866ed489e0"
      },
      "outputs": [
        {
          "output_type": "stream",
          "name": "stdout",
          "text": [
            "Get Training Data File Name: sample_data/2b.csv\n",
            "Training Data : [[1.7983977708734, 72.545353881384, 29.0, 'W'], [1.7917466351447, 78.826072501737, 30.0, 'W'], [1.7682857142857, 69.288868987849, 28.0, 'W'], [1.7949802099235, 88.006698609763, 22.0, 'M'], [1.7300179353714, 71.812932935206, 29.0, 'W'], [1.6790722684193, 78.018326460062, 23.0, 'W'], [1.8059902565001, 74.648125986057, 22.0, 'W'], [1.8453280504394, 75.387886361367, 26.0, 'W'], [1.7574613382704, 82.834433978664, 25.0, 'M'], [1.7691728901745, 74.981845908563, 31.0, 'W'], [1.7694089716, 72.251754861586, 29.0, 'M'], [1.9119015896775, 90.243374848249, 26.0, 'M'], [1.8338252737861, 82.501982818479, 38.0, 'M'], [1.8036472381727, 64.543877592792, 20.0, 'W'], [1.814394092261, 79.683114468035, 32.0, 'W'], [1.803350567802, 84.351853926674, 18.0, 'M'], [1.7840150867228, 70.873064650935, 27.0, 'W'], [1.885800464122, 78.598356440796, 29.0, 'W'], [1.9448657846608, 89.034513862798, 24.0, 'M'], [1.8103438565626, 83.303780497732, 19.0, 'M'], [1.869850948875, 79.110670324195, 26.0, 'M'], [1.7651929874261, 70.846185421099, 27.0, 'W'], [1.7557881533871, 62.785650413505, 19.0, 'W'], [1.9152250788251, 73.576126108931, 24.0, 'M'], [1.8804003551891, 78.21563668324, 27.0, 'W'], [1.8424712230277, 71.976510732059, 25.0, 'W'], [1.9777210521539, 88.246039763033, 28.0, 'M'], [1.7622817014545, 74.028308827109, 28.0, 'W'], [1.742794187015, 70.354137165272, 32.0, 'W'], [1.8271600413848, 82.314792880566, 26.0, 'W'], [1.843434946919, 75.527629292279, 29.0, 'W'], [1.8544313848409, 84.793022225075, 22.0, 'M'], [1.6519123017356, 74.870723688256, 24.0, 'W'], [1.8014392442276, 81.721258294481, 21.0, 'W'], [1.7821731781753, 75.190727386333, 22.0, 'W'], [1.7315021374244, 81.082544761586, 27.0, 'M'], [1.7905048701786, 92.529202746525, 33.0, 'M'], [1.7496950322058, 83.196677348578, 24.0, 'M'], [1.9142532779707, 89.164776111904, 30.0, 'M'], [1.7038469754087, 75.594791530689, 29.0, 'W'], [1.6520588689102, 72.13550739089, 21.0, 'W'], [1.8519500951383, 73.809528396596, 25.0, 'M'], [1.8359607229038, 88.976102236039, 22.0, 'M'], [1.8343844201589, 77.863479728067, 24.0, 'W'], [1.737933296453, 91.625973501677, 24.0, 'M'], [1.7826553273843, 75.799721221421, 30.0, 'W'], [1.8203342189821, 85.687186026812, 18.0, 'M'], [1.7294192775816, 73.413670593223, 29.0, 'W'], [1.6516649449626, 75.341201310314, 25.0, 'M'], [1.8819278802577, 81.499050110924, 24.0, 'M'], [1.8098240682405, 77.899202053871, 31.0, 'W'], [1.7231719496304, 84.739870910575, 28.0, 'W'], [1.7551229794432, 81.734283675409, 26.0, 'W'], [1.7286906278375, 83.607725216447, 24.0, 'M'], [1.8157952928789, 69.52230534686, 29.0, 'W'], [1.8839819091872, 88.953098778395, 29.0, 'M'], [1.7767896871129, 85.474574405007, 26.0, 'M'], [1.7199317921249, 77.23840918573, 27.0, 'M'], [1.8924015813078, 82.819384316144, 24.0, 'M'], [1.7630978036237, 74.376775995014, 20.0, 'W'], [1.7818555665774, 84.330429384927, 21.0, 'W'], [1.8716414839807, 80.217021784977, 27.0, 'M'], [1.6865659934599, 82.21703553482, 20.0, 'M'], [1.7785766018356, 72.318190065446, 27.0, 'M'], [1.6807052910032, 71.673781474047, 31.0, 'W'], [1.6970779545516, 68.211493872084, 26.0, 'W'], [1.7814577556618, 75.113128833374, 30.0, 'W'], [1.713288839679, 73.745560493262, 27.0, 'W'], [1.681052024122, 74.633117734698, 28.0, 'W'], [1.868409867328, 76.997811941173, 24.0, 'M'], [1.885555835796, 81.611125373175, 21.0, 'M'], [1.5888514445142, 69.144770019964, 22.0, 'W'], [1.6856296731467, 77.599269851445, 31.0, 'M'], [1.7273392445799, 73.621021382111, 29.0, 'M'], [1.7584719568644, 83.041893657051, 19.0, 'W'], [1.7786207920498, 70.405061139772, 24.0, 'M'], [1.686682863148, 78.879987620157, 25.0, 'M'], [1.8010551822308, 84.561357996219, 24.0, 'M'], [1.7967213219673, 70.570792501, 21.0, 'M'], [1.9404963308837, 81.146120195319, 24.0, 'W'], [1.7331264557397, 67.094343212994, 25.0, 'W'], [1.7720089584361, 83.909734439109, 26.0, 'W'], [1.8576559835037, 93.13897074605, 26.0, 'W'], [1.7852085152983, 77.764017504422, 22.0, 'W'], [1.7862267898903, 83.729937276906, 25.0, 'M'], [1.7502080390235, 77.564990559153, 18.0, 'W'], [1.9152549167717, 81.923814681675, 24.0, 'M'], [1.7469542951851, 81.43470778309, 24.0, 'M'], [1.8048404793963, 69.937149539108, 26.0, 'W'], [1.8103309417455, 85.828429240042, 29.0, 'M'], [1.7123843520169, 74.069051270439, 24.0, 'M'], [1.9068018175168, 88.29350266295, 31.0, 'M'], [1.8340879614535, 84.806841954547, 28.0, 'M'], [1.9039000564758, 72.029068202721, 24.0, 'W'], [1.6668765891893, 81.803957365233, 28.0, 'M'], [1.8633996905933, 79.135740824939, 27.0, 'W'], [1.8185677717868, 79.048901910386, 28.0, 'W'], [1.822098390769, 80.634330472801, 23.0, 'M'], [1.7463273549661, 74.017078847932, 23.0, 'W'], [1.7195719153268, 85.389148389952, 26.0, 'M'], [1.8399750520559, 82.968615562481, 27.0, 'W'], [1.8530520523028, 78.942325648557, 26.0, 'W'], [1.823679713111, 79.034968844382, 29.0, 'W'], [1.8074146910775, 75.801087353653, 23.0, 'W'], [1.9839785003662, 86.106712836126, 24.0, 'M'], [1.7311194980067, 81.11010954076, 25.0, 'W'], [1.807962479335, 70.734999246211, 29.0, 'W'], [1.8723336649421, 83.561922765073, 28.0, 'M'], [1.9311055361101, 78.403350450054, 24.0, 'W'], [1.6308625025259, 63.606506286448, 32.0, 'W'], [1.8671894204218, 91.002117870341, 32.0, 'M'], [1.8472604810694, 84.005593871351, 26.0, 'M'], [1.7825260585973, 72.156282959848, 27.0, 'M'], [1.8126887014801, 79.530017389488, 29.0, 'W'], [1.7909423477394, 79.846146295737, 27.0, 'W'], [1.8677018113772, 81.756014212074, 29.0, 'W'], [1.8600455832405, 85.407862287955, 21.0, 'W'], [1.7196354074055, 67.618483709221, 31.0, 'W'], [1.7974093813908, 73.415660026485, 26.0, 'W'], [1.6733395004879, 68.645445244126, 25.0, 'W']]\n",
            "Get Test Data point\n",
            "Enter Height: 1.7983977708734\n",
            "Enter weight: 72.545353881384\n",
            "Age: 29.0\n",
            "Given Test Data as [1.7983977708734, 72.545353881384, 29.0]\n",
            " Predicted Gender of Test Data : [1.7983977708734, 72.545353881384, 29.0] is  W for k value 1\n",
            " Predicted Gender of Test Data : [1.7983977708734, 72.545353881384, 29.0] is  W for k value 3\n",
            " Predicted Gender of Test Data : [1.7983977708734, 72.545353881384, 29.0] is  W for k value 5\n",
            "Accuracy : [66.66666666666666, 68.33333333333333, 70.83333333333334]\n",
            "Percentage of Error : [33.33333333333333, 31.666666666666664, 29.166666666666668]\n",
            "Best k- value based on accuracy results:[5]\n"
          ]
        }
      ],
      "source": [
        "filename=input('Get Training Data File Name: ') #Get the Training Data set Name/path\n",
        "training_data = read_csv(filename)\n",
        "training_data=preprocessing(training_data)\n",
        "print(f'Training Data : {training_data}')\n",
        "print('Get Test Data point')\n",
        "test_data=list()\n",
        "test_data.append(float(input('Enter Height: ').strip()))\n",
        "test_data.append(float(input('Enter weight: ').strip()))\n",
        "test_data.append(float(input('Age: ').strip()))\n",
        "print(f'Given Test Data as {test_data}')\n",
        "#k=int(input('Enter k value : '))\n",
        "for k in [1,3,5]:\n",
        "  prediction=predict_gender(training_data,test_data,k)\n",
        "  print(f' Predicted Gender of Test Data : {test_data} is  {prediction} for k value {k}')\n",
        "#leave_out(training_data)\n",
        "\n",
        "accuracy,percentage_error=leave_out(training_data)\n",
        "print(f'Accuracy : {accuracy}')\n",
        "print(f'Percentage of Error : {percentage_error}')\n",
        "best_k=getbest_kvalue(accuracy)\n",
        "if(len(best_k)>1):\n",
        "  print('Accuracy results by Leaveout is same for more than one k value')\n",
        "  print(f'Best k- values :{best_k}')\n",
        "else:\n",
        "  print(f'Best k- value based on accuracy results:{best_k}')"
      ]
    },
    {
      "cell_type": "markdown",
      "source": [
        "d) Repeat the prediction and validation you performed in Question 2 c) using KNN when the age data\n",
        "is removed (i.e. when only the height and weight features are used as part of the distance calculation\n",
        "in the KNN algorithm). Report the results and compare the performance without the age attribute\n",
        "with the ones from Question 2 c). "
      ],
      "metadata": {
        "id": "rGQrWehCtjOs"
      }
    },
    {
      "cell_type": "code",
      "execution_count": 116,
      "metadata": {
        "colab": {
          "base_uri": "https://localhost:8080/"
        },
        "id": "UYa0FRL7pxvl",
        "outputId": "ec0564c8-ce45-4973-f2ff-b2176dbf1079"
      },
      "outputs": [
        {
          "output_type": "stream",
          "name": "stdout",
          "text": [
            "Training data without age parameter/feature [[1.7983977708734, 72.545353881384, 'W'], [1.7917466351447, 78.826072501737, 'W'], [1.7682857142857, 69.288868987849, 'W'], [1.7949802099235, 88.006698609763, 'M'], [1.7300179353714, 71.812932935206, 'W'], [1.6790722684193, 78.018326460062, 'W'], [1.8059902565001, 74.648125986057, 'W'], [1.8453280504394, 75.387886361367, 'W'], [1.7574613382704, 82.834433978664, 'M'], [1.7691728901745, 74.981845908563, 'W'], [1.7694089716, 72.251754861586, 'M'], [1.9119015896775, 90.243374848249, 'M'], [1.8338252737861, 82.501982818479, 'M'], [1.8036472381727, 64.543877592792, 'W'], [1.814394092261, 79.683114468035, 'W'], [1.803350567802, 84.351853926674, 'M'], [1.7840150867228, 70.873064650935, 'W'], [1.885800464122, 78.598356440796, 'W'], [1.9448657846608, 89.034513862798, 'M'], [1.8103438565626, 83.303780497732, 'M'], [1.869850948875, 79.110670324195, 'M'], [1.7651929874261, 70.846185421099, 'W'], [1.7557881533871, 62.785650413505, 'W'], [1.9152250788251, 73.576126108931, 'M'], [1.8804003551891, 78.21563668324, 'W'], [1.8424712230277, 71.976510732059, 'W'], [1.9777210521539, 88.246039763033, 'M'], [1.7622817014545, 74.028308827109, 'W'], [1.742794187015, 70.354137165272, 'W'], [1.8271600413848, 82.314792880566, 'W'], [1.843434946919, 75.527629292279, 'W'], [1.8544313848409, 84.793022225075, 'M'], [1.6519123017356, 74.870723688256, 'W'], [1.8014392442276, 81.721258294481, 'W'], [1.7821731781753, 75.190727386333, 'W'], [1.7315021374244, 81.082544761586, 'M'], [1.7905048701786, 92.529202746525, 'M'], [1.7496950322058, 83.196677348578, 'M'], [1.9142532779707, 89.164776111904, 'M'], [1.7038469754087, 75.594791530689, 'W'], [1.6520588689102, 72.13550739089, 'W'], [1.8519500951383, 73.809528396596, 'M'], [1.8359607229038, 88.976102236039, 'M'], [1.8343844201589, 77.863479728067, 'W'], [1.737933296453, 91.625973501677, 'M'], [1.7826553273843, 75.799721221421, 'W'], [1.8203342189821, 85.687186026812, 'M'], [1.7294192775816, 73.413670593223, 'W'], [1.6516649449626, 75.341201310314, 'M'], [1.8819278802577, 81.499050110924, 'M'], [1.8098240682405, 77.899202053871, 'W'], [1.7231719496304, 84.739870910575, 'W'], [1.7551229794432, 81.734283675409, 'W'], [1.7286906278375, 83.607725216447, 'M'], [1.8157952928789, 69.52230534686, 'W'], [1.8839819091872, 88.953098778395, 'M'], [1.7767896871129, 85.474574405007, 'M'], [1.7199317921249, 77.23840918573, 'M'], [1.8924015813078, 82.819384316144, 'M'], [1.7630978036237, 74.376775995014, 'W'], [1.7818555665774, 84.330429384927, 'W'], [1.8716414839807, 80.217021784977, 'M'], [1.6865659934599, 82.21703553482, 'M'], [1.7785766018356, 72.318190065446, 'M'], [1.6807052910032, 71.673781474047, 'W'], [1.6970779545516, 68.211493872084, 'W'], [1.7814577556618, 75.113128833374, 'W'], [1.713288839679, 73.745560493262, 'W'], [1.681052024122, 74.633117734698, 'W'], [1.868409867328, 76.997811941173, 'M'], [1.885555835796, 81.611125373175, 'M'], [1.5888514445142, 69.144770019964, 'W'], [1.6856296731467, 77.599269851445, 'M'], [1.7273392445799, 73.621021382111, 'M'], [1.7584719568644, 83.041893657051, 'W'], [1.7786207920498, 70.405061139772, 'M'], [1.686682863148, 78.879987620157, 'M'], [1.8010551822308, 84.561357996219, 'M'], [1.7967213219673, 70.570792501, 'M'], [1.9404963308837, 81.146120195319, 'W'], [1.7331264557397, 67.094343212994, 'W'], [1.7720089584361, 83.909734439109, 'W'], [1.8576559835037, 93.13897074605, 'W'], [1.7852085152983, 77.764017504422, 'W'], [1.7862267898903, 83.729937276906, 'M'], [1.7502080390235, 77.564990559153, 'W'], [1.9152549167717, 81.923814681675, 'M'], [1.7469542951851, 81.43470778309, 'M'], [1.8048404793963, 69.937149539108, 'W'], [1.8103309417455, 85.828429240042, 'M'], [1.7123843520169, 74.069051270439, 'M'], [1.9068018175168, 88.29350266295, 'M'], [1.8340879614535, 84.806841954547, 'M'], [1.9039000564758, 72.029068202721, 'W'], [1.6668765891893, 81.803957365233, 'M'], [1.8633996905933, 79.135740824939, 'W'], [1.8185677717868, 79.048901910386, 'W'], [1.822098390769, 80.634330472801, 'M'], [1.7463273549661, 74.017078847932, 'W'], [1.7195719153268, 85.389148389952, 'M'], [1.8399750520559, 82.968615562481, 'W'], [1.8530520523028, 78.942325648557, 'W'], [1.823679713111, 79.034968844382, 'W'], [1.8074146910775, 75.801087353653, 'W'], [1.9839785003662, 86.106712836126, 'M'], [1.7311194980067, 81.11010954076, 'W'], [1.807962479335, 70.734999246211, 'W'], [1.8723336649421, 83.561922765073, 'M'], [1.9311055361101, 78.403350450054, 'W'], [1.6308625025259, 63.606506286448, 'W'], [1.8671894204218, 91.002117870341, 'M'], [1.8472604810694, 84.005593871351, 'M'], [1.7825260585973, 72.156282959848, 'M'], [1.8126887014801, 79.530017389488, 'W'], [1.7909423477394, 79.846146295737, 'W'], [1.8677018113772, 81.756014212074, 'W'], [1.8600455832405, 85.407862287955, 'W'], [1.7196354074055, 67.618483709221, 'W'], [1.7974093813908, 73.415660026485, 'W'], [1.6733395004879, 68.645445244126, 'W']]\n",
            "Accuracy : [72.5, 68.33333333333333, 65.83333333333333]\n",
            "Percentage of Error : [27.500000000000004, 31.666666666666664, 34.166666666666664]\n",
            "Best k- value based on accuracy results:[1]\n"
          ]
        }
      ],
      "source": [
        "temp=[]\n",
        "for row in training_data:\n",
        "  temp.append([row[0],row[1],row[3]])\n",
        "print(f'Training data without age parameter/feature {temp}')\n",
        "accuracy,percentage_error=leave_out(temp)\n",
        "print(f'Accuracy : {accuracy}')\n",
        "print(f'Percentage of Error : {percentage_error}')\n",
        "best_k=getbest_kvalue(accuracy)\n",
        "if(len(best_k)>1):\n",
        "  print('Accuracy results by Leaveout is same for more than one k value')\n",
        "  print(f'Best k- values :{best_k}')\n",
        "else:\n",
        "  print(f'Best k- value based on accuracy results:{best_k}')"
      ]
    }
  ],
  "metadata": {
    "colab": {
      "collapsed_sections": [],
      "name": "K-Nearest- Assignment-1.ipynb",
      "provenance": []
    },
    "kernelspec": {
      "display_name": "Python 3",
      "name": "python3"
    },
    "language_info": {
      "name": "python"
    }
  },
  "nbformat": 4,
  "nbformat_minor": 0
}