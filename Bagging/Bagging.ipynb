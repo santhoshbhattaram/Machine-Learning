{
  "nbformat": 4,
  "nbformat_minor": 0,
  "metadata": {
    "colab": {
      "name": "Bagging.ipynb",
      "provenance": []
    },
    "kernelspec": {
      "name": "python3",
      "display_name": "Python 3"
    },
    "language_info": {
      "name": "python"
    }
  },
  "cells": [
    {
      "cell_type": "code",
      "execution_count": 1,
      "metadata": {
        "colab": {
          "base_uri": "https://localhost:8080/",
          "height": 206
        },
        "id": "SW93k0i4L5Sq",
        "outputId": "1488f24a-f347-49e2-83c8-9e75f382c8f0"
      },
      "outputs": [
        {
          "output_type": "execute_result",
          "data": {
            "text/plain": [
              "     Height     Weight  Age Gender\n",
              "0  1.798398  72.545354   29      W\n",
              "1  1.791747  78.826072   30      W\n",
              "2  1.768286  69.288869   28      W\n",
              "3  1.794980  88.006699   22      M\n",
              "4  1.730018  71.812933   29      W"
            ],
            "text/html": [
              "\n",
              "  <div id=\"df-f190600f-14dd-412f-80b9-e0330880f866\">\n",
              "    <div class=\"colab-df-container\">\n",
              "      <div>\n",
              "<style scoped>\n",
              "    .dataframe tbody tr th:only-of-type {\n",
              "        vertical-align: middle;\n",
              "    }\n",
              "\n",
              "    .dataframe tbody tr th {\n",
              "        vertical-align: top;\n",
              "    }\n",
              "\n",
              "    .dataframe thead th {\n",
              "        text-align: right;\n",
              "    }\n",
              "</style>\n",
              "<table border=\"1\" class=\"dataframe\">\n",
              "  <thead>\n",
              "    <tr style=\"text-align: right;\">\n",
              "      <th></th>\n",
              "      <th>Height</th>\n",
              "      <th>Weight</th>\n",
              "      <th>Age</th>\n",
              "      <th>Gender</th>\n",
              "    </tr>\n",
              "  </thead>\n",
              "  <tbody>\n",
              "    <tr>\n",
              "      <th>0</th>\n",
              "      <td>1.798398</td>\n",
              "      <td>72.545354</td>\n",
              "      <td>29</td>\n",
              "      <td>W</td>\n",
              "    </tr>\n",
              "    <tr>\n",
              "      <th>1</th>\n",
              "      <td>1.791747</td>\n",
              "      <td>78.826072</td>\n",
              "      <td>30</td>\n",
              "      <td>W</td>\n",
              "    </tr>\n",
              "    <tr>\n",
              "      <th>2</th>\n",
              "      <td>1.768286</td>\n",
              "      <td>69.288869</td>\n",
              "      <td>28</td>\n",
              "      <td>W</td>\n",
              "    </tr>\n",
              "    <tr>\n",
              "      <th>3</th>\n",
              "      <td>1.794980</td>\n",
              "      <td>88.006699</td>\n",
              "      <td>22</td>\n",
              "      <td>M</td>\n",
              "    </tr>\n",
              "    <tr>\n",
              "      <th>4</th>\n",
              "      <td>1.730018</td>\n",
              "      <td>71.812933</td>\n",
              "      <td>29</td>\n",
              "      <td>W</td>\n",
              "    </tr>\n",
              "  </tbody>\n",
              "</table>\n",
              "</div>\n",
              "      <button class=\"colab-df-convert\" onclick=\"convertToInteractive('df-f190600f-14dd-412f-80b9-e0330880f866')\"\n",
              "              title=\"Convert this dataframe to an interactive table.\"\n",
              "              style=\"display:none;\">\n",
              "        \n",
              "  <svg xmlns=\"http://www.w3.org/2000/svg\" height=\"24px\"viewBox=\"0 0 24 24\"\n",
              "       width=\"24px\">\n",
              "    <path d=\"M0 0h24v24H0V0z\" fill=\"none\"/>\n",
              "    <path d=\"M18.56 5.44l.94 2.06.94-2.06 2.06-.94-2.06-.94-.94-2.06-.94 2.06-2.06.94zm-11 1L8.5 8.5l.94-2.06 2.06-.94-2.06-.94L8.5 2.5l-.94 2.06-2.06.94zm10 10l.94 2.06.94-2.06 2.06-.94-2.06-.94-.94-2.06-.94 2.06-2.06.94z\"/><path d=\"M17.41 7.96l-1.37-1.37c-.4-.4-.92-.59-1.43-.59-.52 0-1.04.2-1.43.59L10.3 9.45l-7.72 7.72c-.78.78-.78 2.05 0 2.83L4 21.41c.39.39.9.59 1.41.59.51 0 1.02-.2 1.41-.59l7.78-7.78 2.81-2.81c.8-.78.8-2.07 0-2.86zM5.41 20L4 18.59l7.72-7.72 1.47 1.35L5.41 20z\"/>\n",
              "  </svg>\n",
              "      </button>\n",
              "      \n",
              "  <style>\n",
              "    .colab-df-container {\n",
              "      display:flex;\n",
              "      flex-wrap:wrap;\n",
              "      gap: 12px;\n",
              "    }\n",
              "\n",
              "    .colab-df-convert {\n",
              "      background-color: #E8F0FE;\n",
              "      border: none;\n",
              "      border-radius: 50%;\n",
              "      cursor: pointer;\n",
              "      display: none;\n",
              "      fill: #1967D2;\n",
              "      height: 32px;\n",
              "      padding: 0 0 0 0;\n",
              "      width: 32px;\n",
              "    }\n",
              "\n",
              "    .colab-df-convert:hover {\n",
              "      background-color: #E2EBFA;\n",
              "      box-shadow: 0px 1px 2px rgba(60, 64, 67, 0.3), 0px 1px 3px 1px rgba(60, 64, 67, 0.15);\n",
              "      fill: #174EA6;\n",
              "    }\n",
              "\n",
              "    [theme=dark] .colab-df-convert {\n",
              "      background-color: #3B4455;\n",
              "      fill: #D2E3FC;\n",
              "    }\n",
              "\n",
              "    [theme=dark] .colab-df-convert:hover {\n",
              "      background-color: #434B5C;\n",
              "      box-shadow: 0px 1px 3px 1px rgba(0, 0, 0, 0.15);\n",
              "      filter: drop-shadow(0px 1px 2px rgba(0, 0, 0, 0.3));\n",
              "      fill: #FFFFFF;\n",
              "    }\n",
              "  </style>\n",
              "\n",
              "      <script>\n",
              "        const buttonEl =\n",
              "          document.querySelector('#df-f190600f-14dd-412f-80b9-e0330880f866 button.colab-df-convert');\n",
              "        buttonEl.style.display =\n",
              "          google.colab.kernel.accessAllowed ? 'block' : 'none';\n",
              "\n",
              "        async function convertToInteractive(key) {\n",
              "          const element = document.querySelector('#df-f190600f-14dd-412f-80b9-e0330880f866');\n",
              "          const dataTable =\n",
              "            await google.colab.kernel.invokeFunction('convertToInteractive',\n",
              "                                                     [key], {});\n",
              "          if (!dataTable) return;\n",
              "\n",
              "          const docLinkHtml = 'Like what you see? Visit the ' +\n",
              "            '<a target=\"_blank\" href=https://colab.research.google.com/notebooks/data_table.ipynb>data table notebook</a>'\n",
              "            + ' to learn more about interactive tables.';\n",
              "          element.innerHTML = '';\n",
              "          dataTable['output_type'] = 'display_data';\n",
              "          await google.colab.output.renderOutput(dataTable, element);\n",
              "          const docLink = document.createElement('div');\n",
              "          docLink.innerHTML = docLinkHtml;\n",
              "          element.appendChild(docLink);\n",
              "        }\n",
              "      </script>\n",
              "    </div>\n",
              "  </div>\n",
              "  "
            ]
          },
          "metadata": {},
          "execution_count": 1
        }
      ],
      "source": [
        "import numpy as np\n",
        "import pandas as pd\n",
        "from pprint import pprint\n",
        "from random import seed\n",
        "from random import randrange\n",
        "\n",
        "df = pd.read_csv(\"Assignement1-2b.csv\")\n",
        "data = df.values\n",
        "column_names=df.columns\n",
        "training_data=df.values\n",
        "df.head()"
      ]
    },
    {
      "cell_type": "code",
      "source": [
        "def purity(dataset):\n",
        "  classes=set(dataset[:,-1])\n",
        "  classes=np.array(list(classes))\n",
        "  # print(classes)\n",
        "  if len(classes)==1:\n",
        "    return True\n",
        "  return False"
      ],
      "metadata": {
        "id": "-1tjNnZOMDEr"
      },
      "execution_count": 2,
      "outputs": []
    },
    {
      "cell_type": "code",
      "source": [
        "#checking purity of class\n",
        "# purity(df[df['Gender']=='W'].values)\n",
        "# # df[df['Gender']=='W'].values\n",
        "def classify_treedata(dataset):\n",
        "  classes=dataset[:,-1]\n",
        "  unique_classes,count=np.unique(classes,return_counts=True)\n",
        "  # print(np.unique(classes,return_counts=True))\n",
        "  classification=unique_classes[np.argmax(count)]\n",
        "  # print(classification)\n",
        "  return classification\n",
        "# classify_treedata(df[(df.Age>30) & (df.Weight>90)].values)"
      ],
      "metadata": {
        "id": "Kya6PUH8MGne"
      },
      "execution_count": 3,
      "outputs": []
    },
    {
      "cell_type": "code",
      "source": [
        "#get the splpit data left and right to decission node\n",
        "def get_splits(data):\n",
        "  splits={}\n",
        "  _,columns=data.shape\n",
        "  for column in range(columns-1): \n",
        "    splits[column]=[]\n",
        "    values=data[:,column]\n",
        "    unique_values=np.sort(np.unique(values))\n",
        "    # print(len(unique_values))\n",
        "    for index in range(len(unique_values)):\n",
        "      if(index!=0):\n",
        "        splits[column].append((unique_values[index-1]+unique_values[index])/2)\n",
        "  # print(len(splits[2]))\n",
        "  return splits"
      ],
      "metadata": {
        "id": "KBJEnKENMHZJ"
      },
      "execution_count": 4,
      "outputs": []
    },
    {
      "cell_type": "code",
      "source": [
        "def get_splitdata(dataset, column, value):\n",
        "  split_data=dataset[:,column]\n",
        "  data_left=dataset[split_data<=value]\n",
        "  data_right=dataset[split_data>value]\n",
        "  return data_left,data_right"
      ],
      "metadata": {
        "id": "9F9LwhxiMKCh"
      },
      "execution_count": 5,
      "outputs": []
    },
    {
      "cell_type": "code",
      "source": [
        "def entropy_cal(dataset):\n",
        "  classes=dataset[:,-1]\n",
        "  _,count=np.unique(classes,return_counts=True)\n",
        "  prob=count/sum(count)\n",
        "  entropy=sum(prob * - np.log2(prob))\n",
        "  return entropy"
      ],
      "metadata": {
        "id": "cAkPxoQjMMR3"
      },
      "execution_count": 6,
      "outputs": []
    },
    {
      "cell_type": "code",
      "source": [
        "def total_entropy(data_left, data_right):\n",
        "  prob_left=len(data_left)/(len(data_left)+len(data_right))\n",
        "  prob_right=len(data_right)/(len(data_left)+len(data_right))\n",
        "  total_entropy= (prob_left *entropy_cal(data_left))+ (prob_right *entropy_cal(data_right))\n",
        "  return total_entropy "
      ],
      "metadata": {
        "id": "ntlavle8MP_2"
      },
      "execution_count": 7,
      "outputs": []
    },
    {
      "cell_type": "code",
      "source": [
        "def information_gain(dataset,data_left,data_right):\n",
        "  return entropy_cal(dataset)-(total_entropy(data_left,data_right))"
      ],
      "metadata": {
        "id": "Ym973qwIMSJF"
      },
      "execution_count": 8,
      "outputs": []
    },
    {
      "cell_type": "code",
      "source": [
        "\n",
        "def get_best_split_gain(dataset,splits):\n",
        "  best_infogain=0\n",
        "  for index in splits:\n",
        "    for value in splits[index]:\n",
        "      data_left,data_right=get_splitdata(dataset,index,value)\n",
        "      # best_column=index\n",
        "      # best_value=value\n",
        "      info_gain=information_gain(dataset[:,(index,-1)],data_left,data_right)\n",
        "      if info_gain>best_infogain:\n",
        "        best_infogain=info_gain\n",
        "        best_column=index\n",
        "        best_value=value\n",
        "  return best_column,best_value"
      ],
      "metadata": {
        "id": "rkRxOdITMUiy"
      },
      "execution_count": 9,
      "outputs": []
    },
    {
      "cell_type": "code",
      "source": [
        "\n",
        "def DecissionTreeClassification(data,min_samples, max_depth,iteration=0):\n",
        "    if (purity(data)) or (len(data) < min_samples) or (iteration == max_depth):\n",
        "        classification = classify_treedata(data)\n",
        "        return classification   \n",
        "    else:    \n",
        "        iteration += 1\n",
        "        splits = get_splits(data)\n",
        "        best_column, best_value = get_best_split_gain(data, splits)\n",
        "        data_left, data_right = get_splitdata(data, best_column, best_value)\n",
        "        # decissionrule=print(f'{column_names[best_column]} <= {best_value}')\n",
        "        decissionrule=\"\"+str(column_names[best_column])+\" <= \" + str(best_value) \n",
        "        sub_tree = {decissionrule: []}\n",
        "        left_subtree = DecissionTreeClassification(data_left, min_samples, max_depth,iteration)\n",
        "        right_subtree = DecissionTreeClassification(data_right, min_samples, max_depth,iteration)\n",
        "        sub_tree[decissionrule].append(left_subtree)\n",
        "        sub_tree[decissionrule].append(right_subtree)\n",
        "        return sub_tree"
      ],
      "metadata": {
        "id": "qcY8FHYZMW2n"
      },
      "execution_count": 10,
      "outputs": []
    },
    {
      "cell_type": "code",
      "source": [
        "def predict_gender(test_data,tree):\n",
        "  # DecissionTreeClassification(training_data,max_depth)\n",
        "  decissionrule = list(tree.keys())[0]\n",
        "  #split based on spaces\n",
        "  feature_name, comparison_operator, value = decissionrule.split()\n",
        "  if test_data[feature_name] <= float(value):\n",
        "    answer = tree[decissionrule][0]\n",
        "  else:\n",
        "    answer = tree[decissionrule][1]\n",
        "  #if not dictionary we have reached the classification\n",
        "  if not isinstance(answer, dict):\n",
        "      return answer    \n",
        "  else:\n",
        "      sub_tree = answer\n",
        "      return predict_gender(test_data, sub_tree)"
      ],
      "metadata": {
        "id": "WiXoPDTFMafY"
      },
      "execution_count": 11,
      "outputs": []
    },
    {
      "cell_type": "code",
      "source": [
        "#generating samples for bagging\n",
        "def subsample(dataset,bootstrap_size):\n",
        "\tsample = list()\n",
        "\tn_sample = len(dataset)*bootstrap_size\n",
        "\twhile len(sample) < n_sample:\n",
        "\t\tindex = randrange(len(dataset))\n",
        "\t\tsample.append(dataset[index])\n",
        "\treturn np.array(sample)"
      ],
      "metadata": {
        "id": "RNf9iM8QMe_v"
      },
      "execution_count": 12,
      "outputs": []
    },
    {
      "cell_type": "code",
      "source": [
        "def bagging(train,min_size,max_depth,sample_size,n_trees):\n",
        "  trees=list()\n",
        "  for i in range(n_trees):\n",
        "    sample=subsample(train,sample_size)\n",
        "    tree=DecissionTreeClassification(sample,min_size,max_depth)\n",
        "    trees.append(tree)\n",
        "  return trees"
      ],
      "metadata": {
        "id": "zlKAEC81PW7O"
      },
      "execution_count": 13,
      "outputs": []
    },
    {
      "cell_type": "code",
      "source": [
        "def bagging_prediction(trees,row):\n",
        "  predictions = [predict_gender(row,tree) for tree in trees]\n",
        "  return max(set(predictions), key=predictions.count)\n"
      ],
      "metadata": {
        "id": "FATPdp72O2Z8"
      },
      "execution_count": 14,
      "outputs": []
    },
    {
      "cell_type": "code",
      "source": [
        "def accuracy(trees,test):\n",
        "  correct=0\n",
        "  wrong=0\n",
        "  for i in range(len(test)):\n",
        "    predict=bagging_prediction(trees,test.iloc[i])\n",
        "    if(test.iloc[i].Gender==predict):\n",
        "      correct+=1\n",
        "    else:\n",
        "      wrong+=1\n",
        "  return (correct/(correct+wrong))*100  "
      ],
      "metadata": {
        "id": "iwi1GdcvUYyk"
      },
      "execution_count": 15,
      "outputs": []
    },
    {
      "cell_type": "code",
      "source": [
        "train_data=df[:90]\n",
        "test_data=df[90:]\n",
        "seed(2)\n",
        "print('For Depth 4')\n",
        "for baggings in [10,50,100]:\n",
        "  trees=bagging(train_data.values,2,4,0.5,baggings)\n",
        "  accu=accuracy(trees,test_data)\n",
        "  error=100-accu\n",
        "  print('--------------------------------------------')\n",
        "  # print(len(trees))\n",
        "  print(f'Accuracy for Bagging {baggings} is {accu}')\n",
        "  print(f'Error rate for Bagging {baggings} is {error}')\n",
        "  print('---------------------------------------------')"
      ],
      "metadata": {
        "colab": {
          "base_uri": "https://localhost:8080/"
        },
        "id": "owGVEWYMNrDj",
        "outputId": "be1ec3d2-367f-4ec8-e69a-dc2b2fa9d3cf"
      },
      "execution_count": 17,
      "outputs": [
        {
          "output_type": "stream",
          "name": "stdout",
          "text": [
            "For Depth 4\n",
            "--------------------------------------------\n",
            "Accuracy for Bagging 10 is 63.33333333333333\n",
            "Error rate for Bagging 10 is 36.66666666666667\n",
            "---------------------------------------------\n",
            "--------------------------------------------\n",
            "Accuracy for Bagging 50 is 70.0\n",
            "Error rate for Bagging 50 is 30.0\n",
            "---------------------------------------------\n",
            "--------------------------------------------\n",
            "Accuracy for Bagging 100 is 73.33333333333333\n",
            "Error rate for Bagging 100 is 26.66666666666667\n",
            "---------------------------------------------\n"
          ]
        }
      ]
    }
  ]
}